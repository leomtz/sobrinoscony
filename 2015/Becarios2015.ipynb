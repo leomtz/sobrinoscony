{
 "cells": [
  {
   "cell_type": "code",
   "execution_count": 81,
   "metadata": {},
   "outputs": [],
   "source": [
    "import pandas as pd\n",
    "import numpy as np\n"
   ]
  },
  {
   "cell_type": "code",
   "execution_count": 82,
   "metadata": {},
   "outputs": [
    {
     "name": "stderr",
     "output_type": "stream",
     "text": [
      "/home/leonardo/anaconda3/lib/python3.7/site-packages/IPython/core/interactiveshell.py:2785: DtypeWarning: Columns (0) have mixed types. Specify dtype option on import or set low_memory=False.\n",
      "  interactivity=interactivity, compiler=compiler, result=result)\n"
     ]
    }
   ],
   "source": [
    "df=pd.read_csv(\"data2015.csv\", encoding=\"utf-8\")"
   ]
  },
  {
   "cell_type": "code",
   "execution_count": 83,
   "metadata": {
    "scrolled": true
   },
   "outputs": [
    {
     "name": "stdout",
     "output_type": "stream",
     "text": [
      "<class 'pandas.core.frame.DataFrame'>\n",
      "RangeIndex: 70073 entries, 0 to 70072\n",
      "Data columns (total 10 columns):\n",
      "id             70072 non-null object\n",
      "nombre         70069 non-null object\n",
      "inicio         70064 non-null object\n",
      "fin            70064 non-null object\n",
      "grado          70064 non-null object\n",
      "institucion    70069 non-null object\n",
      "entidad        70069 non-null object\n",
      "programa       70069 non-null object\n",
      "area           70065 non-null object\n",
      "importe        70070 non-null object\n",
      "dtypes: object(10)\n",
      "memory usage: 5.3+ MB\n"
     ]
    },
    {
     "data": {
      "text/html": [
       "<div>\n",
       "<style scoped>\n",
       "    .dataframe tbody tr th:only-of-type {\n",
       "        vertical-align: middle;\n",
       "    }\n",
       "\n",
       "    .dataframe tbody tr th {\n",
       "        vertical-align: top;\n",
       "    }\n",
       "\n",
       "    .dataframe thead th {\n",
       "        text-align: right;\n",
       "    }\n",
       "</style>\n",
       "<table border=\"1\" class=\"dataframe\">\n",
       "  <thead>\n",
       "    <tr style=\"text-align: right;\">\n",
       "      <th></th>\n",
       "      <th>id</th>\n",
       "      <th>nombre</th>\n",
       "      <th>inicio</th>\n",
       "      <th>fin</th>\n",
       "      <th>grado</th>\n",
       "      <th>institucion</th>\n",
       "      <th>entidad</th>\n",
       "      <th>programa</th>\n",
       "      <th>area</th>\n",
       "      <th>importe</th>\n",
       "    </tr>\n",
       "  </thead>\n",
       "  <tbody>\n",
       "    <tr>\n",
       "      <th>0</th>\n",
       "      <td>1</td>\n",
       "      <td>ROMERO DURAN JOSE NETZ</td>\n",
       "      <td>1/21/2013</td>\n",
       "      <td>1/20/2017</td>\n",
       "      <td>1. DOC</td>\n",
       "      <td>IPN</td>\n",
       "      <td>DISTRITO FEDERAL</td>\n",
       "      <td>DOCTORADO EN CIENCIAS DE LA COMPUTACION</td>\n",
       "      <td>VII. INGENIERIAS</td>\n",
       "      <td>151416</td>\n",
       "    </tr>\n",
       "    <tr>\n",
       "      <th>1</th>\n",
       "      <td>2</td>\n",
       "      <td>MUÑOZ MARQUEZ LEON RAFAEL</td>\n",
       "      <td>1/1/2014</td>\n",
       "      <td>12/31/2017</td>\n",
       "      <td>1. DOC</td>\n",
       "      <td>COLPOS</td>\n",
       "      <td>ESTADO DE MEXICO</td>\n",
       "      <td>DOCTORADO EN HIDROCIENCIAS</td>\n",
       "      <td>VI. BIOTECNOLOGIA Y CS. AGROPECUARIAS</td>\n",
       "      <td>151416</td>\n",
       "    </tr>\n",
       "    <tr>\n",
       "      <th>2</th>\n",
       "      <td>3</td>\n",
       "      <td>GIRON DE LA PEÑA HECTOR</td>\n",
       "      <td>8/1/2013</td>\n",
       "      <td>6/30/2017</td>\n",
       "      <td>1. DOC</td>\n",
       "      <td>UNAM</td>\n",
       "      <td>DISTRITO FEDERAL</td>\n",
       "      <td>DOCTORADO EN ARQUITECTURA</td>\n",
       "      <td>IV. HUMANIDADES Y CS. DE LA CONDUCTA</td>\n",
       "      <td>126180</td>\n",
       "    </tr>\n",
       "    <tr>\n",
       "      <th>3</th>\n",
       "      <td>4</td>\n",
       "      <td>ESCAMILLA GALLEGOS OLIVIA</td>\n",
       "      <td>2/1/2014</td>\n",
       "      <td>12/31/2016</td>\n",
       "      <td>1. DOC</td>\n",
       "      <td>UA NUEVO LEON</td>\n",
       "      <td>NUEVO LEON</td>\n",
       "      <td>DOCTORADO EN CIENCIAS-1584</td>\n",
       "      <td>II. BIOLOGIA Y QUIMICA</td>\n",
       "      <td>151416</td>\n",
       "    </tr>\n",
       "    <tr>\n",
       "      <th>4</th>\n",
       "      <td>5</td>\n",
       "      <td>SANTANA BENHUMEA GRACIELA</td>\n",
       "      <td>8/1/2013</td>\n",
       "      <td>7/31/2016</td>\n",
       "      <td>1. DOC</td>\n",
       "      <td>UA EDO MEXICO</td>\n",
       "      <td>ESTADO DE MEXICO</td>\n",
       "      <td>DOCTORADO EN HUMANIDADES</td>\n",
       "      <td>IV. HUMANIDADES Y CS. DE LA CONDUCTA</td>\n",
       "      <td>151416</td>\n",
       "    </tr>\n",
       "  </tbody>\n",
       "</table>\n",
       "</div>"
      ],
      "text/plain": [
       "  id                     nombre     inicio         fin   grado    institucion  \\\n",
       "0  1     ROMERO DURAN JOSE NETZ  1/21/2013   1/20/2017  1. DOC            IPN   \n",
       "1  2  MUÑOZ MARQUEZ LEON RAFAEL   1/1/2014  12/31/2017  1. DOC         COLPOS   \n",
       "2  3    GIRON DE LA PEÑA HECTOR   8/1/2013   6/30/2017  1. DOC           UNAM   \n",
       "3  4  ESCAMILLA GALLEGOS OLIVIA   2/1/2014  12/31/2016  1. DOC  UA NUEVO LEON   \n",
       "4  5  SANTANA BENHUMEA GRACIELA   8/1/2013   7/31/2016  1. DOC  UA EDO MEXICO   \n",
       "\n",
       "            entidad                                 programa  \\\n",
       "0  DISTRITO FEDERAL  DOCTORADO EN CIENCIAS DE LA COMPUTACION   \n",
       "1  ESTADO DE MEXICO               DOCTORADO EN HIDROCIENCIAS   \n",
       "2  DISTRITO FEDERAL                DOCTORADO EN ARQUITECTURA   \n",
       "3        NUEVO LEON               DOCTORADO EN CIENCIAS-1584   \n",
       "4  ESTADO DE MEXICO                 DOCTORADO EN HUMANIDADES   \n",
       "\n",
       "                                    area importe  \n",
       "0                       VII. INGENIERIAS  151416  \n",
       "1  VI. BIOTECNOLOGIA Y CS. AGROPECUARIAS  151416  \n",
       "2   IV. HUMANIDADES Y CS. DE LA CONDUCTA  126180  \n",
       "3                 II. BIOLOGIA Y QUIMICA  151416  \n",
       "4   IV. HUMANIDADES Y CS. DE LA CONDUCTA  151416  "
      ]
     },
     "execution_count": 83,
     "metadata": {},
     "output_type": "execute_result"
    }
   ],
   "source": [
    "df.info()\n",
    "df.head()"
   ]
  },
  {
   "cell_type": "code",
   "execution_count": 84,
   "metadata": {},
   "outputs": [
    {
     "name": "stdout",
     "output_type": "stream",
     "text": [
      "[70064, 70065, 70066, 70067, 70068, 70069, 70070, 70071, 70072]\n"
     ]
    }
   ],
   "source": [
    "# Clean the data\n",
    "# Find NaNs indexes\n",
    "nans = lambda df: df[df.isnull().any(axis=1)]\n",
    "nans_indexes = list(nans(df).index)\n",
    "print(nans_indexes)"
   ]
  },
  {
   "cell_type": "code",
   "execution_count": 85,
   "metadata": {
    "scrolled": true
   },
   "outputs": [
    {
     "name": "stdout",
     "output_type": "stream",
     "text": [
      "[]\n",
      "<class 'pandas.core.frame.DataFrame'>\n",
      "Int64Index: 70064 entries, 0 to 70063\n",
      "Data columns (total 10 columns):\n",
      "id             70064 non-null object\n",
      "nombre         70064 non-null object\n",
      "inicio         70064 non-null object\n",
      "fin            70064 non-null object\n",
      "grado          70064 non-null object\n",
      "institucion    70064 non-null object\n",
      "entidad        70064 non-null object\n",
      "programa       70064 non-null object\n",
      "area           70064 non-null object\n",
      "importe        70064 non-null object\n",
      "dtypes: object(10)\n",
      "memory usage: 5.9+ MB\n"
     ]
    }
   ],
   "source": [
    "# Inicio has weird date sometimes\n",
    "invalid = df[df[\"inicio\"]==\"-\"]\n",
    "invalid_indexes = list(invalid.index)\n",
    "print(invalid_indexes)\n",
    "\n",
    "invalid=invalid_indexes+nans_indexes\n",
    "df=df.drop(invalid)\n",
    "df.info()"
   ]
  },
  {
   "cell_type": "code",
   "execution_count": 86,
   "metadata": {},
   "outputs": [],
   "source": [
    "df.to_csv(\"data2015clean.csv\", encoding=\"utf-8\")"
   ]
  },
  {
   "cell_type": "code",
   "execution_count": 87,
   "metadata": {},
   "outputs": [],
   "source": [
    "#Normalizing factor for visualization\n",
    "factor=729/70064"
   ]
  },
  {
   "cell_type": "code",
   "execution_count": 88,
   "metadata": {},
   "outputs": [
    {
     "name": "stdout",
     "output_type": "stream",
     "text": [
      "[['DISTRITO FEDERAL', 230], ['ESTADO DE MEXICO', 46], ['JALISCO', 41], ['NUEVO LEON', 38], ['BAJA CALIFORNIA', 34], ['PUEBLA', 33], ['VERACRUZ', 32], ['MORELOS', 26], ['MICHOACAN', 23], ['GUANAJUATO', 21], ['QUERETARO', 21], ['SAN LUIS POTOSI', 20], ['CHIHUAHUA', 16], ['SONORA', 16], ['COAHUILA', 16], ['YUCATAN', 15], ['SINALOA', 13], ['TAMAULIPAS', 10], ['CHIAPAS', 7], ['HIDALGO', 7], ['AGUASCALIENTES', 5], ['ZACATECAS', 5], ['OAXACA', 5], ['BAJA CALIFORNIA SUR', 5], ['DURANGO', 5], ['TLAXCALA', 4], ['NAYARIT', 4], ['TABASCO', 3], ['COLIMA', 3], ['GUERRERO', 3], ['QUINTANA ROO', 3], ['CAMPECHE', 1]]\n",
      "\n",
      "[['DISTRITO FEDERAL', 0], ['DISTRITO FEDERAL', 0], ['DISTRITO FEDERAL', 0], ['DISTRITO FEDERAL', 0]] \n",
      " 729\n"
     ]
    }
   ],
   "source": [
    "#Becarios by state\n",
    "x=df[[\"entidad\"]].groupby(\"entidad\").size().sort_values(ascending=False)\n",
    "estados=[[x.keys()[i],int(factor*j)] for i,j in enumerate(x)]\n",
    "print(estados)\n",
    "#Round-off errors\n",
    "for j in range(18):\n",
    "    estados[j][1]+=1\n",
    "#List of states to zip\n",
    "lista_estados= []\n",
    "for i in range(32):\n",
    "    lista_estados+=estados[i][1]*[[estados[i][0],i]]\n",
    "print()\n",
    "print([lista_estados[j] for j in range(4)],\"\\n\" ,len(lista_estados))"
   ]
  },
  {
   "cell_type": "code",
   "execution_count": 89,
   "metadata": {},
   "outputs": [
    {
     "name": "stdout",
     "output_type": "stream",
     "text": [
      "[['2. MAE', 470], ['1. DOC', 229], ['3. ESP', 27], ['4. EST TEC', 1]]\n",
      "\n",
      "[['Maestría', 0], ['Maestría', 0], ['Maestría', 0], ['Maestría', 0]] \n",
      " 729\n"
     ]
    }
   ],
   "source": [
    "#Becarios por grado\n",
    "x=df[[\"grado\"]].groupby(\"grado\").size().sort_values(ascending=False)\n",
    "grados=[[x.keys()[i],int(factor*j)] for i,j in enumerate(x)]\n",
    "print(grados)\n",
    "#Ajustar para que de 729\n",
    "grados[0][0]=\"Maestría\"\n",
    "grados[1][0]=\"Doctorado\"\n",
    "grados[2][0]=\"Especialidad\"\n",
    "grados[3][0]=\"Estancia Técnica\"\n",
    "grados[0][1]+=1\n",
    "grados[1][1]+=1\n",
    "#Crear la lista de la que haremos zip\n",
    "lista_grados = []\n",
    "for i in range(4):\n",
    "    lista_grados+=grados[i][1]*[[grados[i][0],i]]\n",
    "print()\n",
    "print([lista_grados[j] for j in range(4)],\"\\n\" ,len(lista_grados))"
   ]
  },
  {
   "cell_type": "code",
   "execution_count": 90,
   "metadata": {},
   "outputs": [
    {
     "name": "stdout",
     "output_type": "stream",
     "text": [
      "[['I. FISICO MATEMATICAS Y CS. DE LA TIERRA', 58], ['II. BIOLOGIA Y QUIMICA', 89], ['III. MEDICINA Y CS. DE LA SALUD', 63], ['IV. HUMANIDADES Y CS. DE LA CONDUCTA', 105], ['V. CIENCIAS SOCIALES', 158], ['VI. BIOTECNOLOGIA Y CS. AGROPECUARIAS', 84], ['VII. INGENIERIAS', 168]]\n",
      "[['I. FISICO MATEMATICAS Y CS. DE LA TIERRA', 58], ['II. BIOLOGIA Y QUIMICA', 89], ['III. MEDICINA Y CS. DE LA SALUD', 63], ['IV. HUMANIDADES Y CS. DE LA CONDUCTA', 105], ['V. CIENCIAS SOCIALES', 158], ['VI. BIOTECNOLOGIA Y CS. AGROPECUARIAS', 84], ['VII. INGENIERIAS', 168]]\n",
      "729\n",
      "[['I. FISICO MATEMATICAS Y CS. DE LA TIERRA', 0], ['I. FISICO MATEMATICAS Y CS. DE LA TIERRA', 0], ['I. FISICO MATEMATICAS Y CS. DE LA TIERRA', 0], ['I. FISICO MATEMATICAS Y CS. DE LA TIERRA', 0]]\n"
     ]
    }
   ],
   "source": [
    "#Becarios por area\n",
    "x=df[[\"area\"]].groupby(\"area\").size().sort_values(ascending=False)\n",
    "areas=[[x.keys()[i],int(factor*j)] for i,j in enumerate(x)]\n",
    "areas.sort(key=lambda j:j[0])\n",
    "#Ajustar para que de 729\n",
    "print(areas)\n",
    "print(areas)\n",
    "for j in range(1,4):\n",
    "    areas[j][1]+=1\n",
    "sum([x[1] for x in areas])\n",
    "areas[1][1]+=1\n",
    "#Crear la lista de la que haremos zip\n",
    "lista_areas = []\n",
    "total=0\n",
    "for i in range(7):\n",
    "    lista_areas+=areas[i][1]*[[areas[i][0],i]]\n",
    "    total+=areas[i][1]\n",
    "print(total)\n",
    "print([lista_areas[j] for j in range(4)])"
   ]
  },
  {
   "cell_type": "code",
   "execution_count": 91,
   "metadata": {},
   "outputs": [
    {
     "name": "stdout",
     "output_type": "stream",
     "text": [
      "['2016', '2016', '2016', '2016', '2016', '2016', '2016', '2016', '2016']\n",
      "[[2009, 0], [2010, 1], [2011, 25], [2012, 45], [2013, 170], [2014, 236], [2015, 247], [2016, 0]]\n",
      "[[2010, 2], [2011, 25], [2012, 45], [2013, 171], [2014, 237], [2015, 249]]\n",
      "\n",
      "[[2010, 0], [2010, 0], [2011, 1], [2011, 1]] 729\n"
     ]
    }
   ],
   "source": [
    "#Becarios por año inicio\n",
    "x=[str(a)[-4:] for a in df[\"inicio\"]]\n",
    "x.sort()\n",
    "print(x[-1:-10:-1])\n",
    "#Clean conflictive data\n",
    "x=x[:-4]\n",
    "inicios={}\n",
    "for a in x:\n",
    "    inicios[a]=inicios.get(a,0)+1\n",
    "inicios = [[int(a),int(factor*inicios[a])] for a in inicios]\n",
    "inicios.sort(key=lambda x:x[0])\n",
    "print(inicios)\n",
    "del(inicios[0],inicios[-1])\n",
    "#Ajuste 729\n",
    "inicios[0][1]+=1\n",
    "inicios[3][1]+=1\n",
    "inicios[4][1]+=1\n",
    "inicios[5][1]+=2\n",
    "print(inicios)\n",
    "lista_inicios = []\n",
    "for i in range(6):\n",
    "    lista_inicios+=inicios[i][1]*[[inicios[i][0],i]]\n",
    "print()\n",
    "print([lista_inicios[j] for j in range(4)],len(lista_inicios))"
   ]
  },
  {
   "cell_type": "code",
   "execution_count": 92,
   "metadata": {},
   "outputs": [
    {
     "name": "stdout",
     "output_type": "stream",
     "text": [
      "[[2011, 0], [2012, 0], [2013, 0], [2014, 0], [2015, 220], [2016, 232], [2017, 188], [2018, 52], [2019, 33], [2020, 1]]\n",
      "[[2014, 2], [2015, 220], [2016, 233], [2017, 188], [2018, 52], [2019, 34]]\n",
      "729\n",
      "\n",
      "[[2014, 0], [2014, 0], [2015, 1], [2015, 1]]\n"
     ]
    }
   ],
   "source": [
    "#Becarios por año fin\n",
    "x=[str(a)[-4:] for a in df[\"fin\"]]\n",
    "x.sort()\n",
    "#Clean conflictive data\n",
    "x=x[:-4]\n",
    "fines={}\n",
    "for a in x:\n",
    "    fines[a]=fines.get(a,0)+1\n",
    "fines = [[int(a),int(factor*fines[a])] for a in fines]\n",
    "fines.sort(key=lambda x:x[0])\n",
    "print(fines)\n",
    "del(fines[0],fines[0],fines[0],fines[-1])\n",
    "#Ajuste 729\n",
    "fines[0][1]+=2\n",
    "fines[5][1]+=1\n",
    "fines[2][1]+=1\n",
    "print(fines)\n",
    "print(sum([x[1] for x in fines]))\n",
    "lista_fines = []\n",
    "for i in range(6):\n",
    "    lista_fines+=fines[i][1]*[[fines[i][0],i]]\n",
    "print()\n",
    "print([lista_fines[j] for j in range(4)])"
   ]
  },
  {
   "cell_type": "code",
   "execution_count": 93,
   "metadata": {},
   "outputs": [
    {
     "name": "stdout",
     "output_type": "stream",
     "text": [
      "(['DISTRITO FEDERAL', 0], ['Maestría', 0], ['I. FISICO MATEMATICAS Y CS. DE LA TIERRA', 0], [2010, 0], [2014, 0])\n",
      "(['DISTRITO FEDERAL', 0], ['Maestría', 0], ['I. FISICO MATEMATICAS Y CS. DE LA TIERRA', 0], [2012, 2], [2015, 1])\n",
      "(['DISTRITO FEDERAL', 0], ['Maestría', 0], ['II. BIOLOGIA Y QUIMICA', 1], [2013, 3], [2015, 1])\n",
      "(['DISTRITO FEDERAL', 0], ['Maestría', 0], ['II. BIOLOGIA Y QUIMICA', 1], [2013, 3], [2015, 1])\n",
      "(['DISTRITO FEDERAL', 0], ['Maestría', 0], ['III. MEDICINA Y CS. DE LA SALUD', 2], [2013, 3], [2015, 1])\n",
      "(['DISTRITO FEDERAL', 0], ['Maestría', 0], ['III. MEDICINA Y CS. DE LA SALUD', 2], [2013, 3], [2015, 1])\n",
      "(['ESTADO DE MEXICO', 1], ['Maestría', 0], ['IV. HUMANIDADES Y CS. DE LA CONDUCTA', 3], [2013, 3], [2016, 2])\n",
      "(['JALISCO', 2], ['Maestría', 0], ['IV. HUMANIDADES Y CS. DE LA CONDUCTA', 3], [2014, 4], [2016, 2])\n",
      "(['NUEVO LEON', 3], ['Maestría', 0], ['V. CIENCIAS SOCIALES', 4], [2014, 4], [2016, 2])\n",
      "(['BAJA CALIFORNIA', 4], ['Maestría', 0], ['V. CIENCIAS SOCIALES', 4], [2014, 4], [2016, 2])\n",
      "(['PUEBLA', 5], ['Maestría', 0], ['V. CIENCIAS SOCIALES', 4], [2014, 4], [2016, 2])\n",
      "(['VERACRUZ', 6], ['Maestría', 0], ['V. CIENCIAS SOCIALES', 4], [2014, 4], [2016, 2])\n",
      "(['MORELOS', 7], ['Doctorado', 1], ['VI. BIOTECNOLOGIA Y CS. AGROPECUARIAS', 5], [2015, 5], [2017, 3])\n",
      "(['GUANAJUATO', 9], ['Doctorado', 1], ['VI. BIOTECNOLOGIA Y CS. AGROPECUARIAS', 5], [2015, 5], [2017, 3])\n",
      "(['SAN LUIS POTOSI', 11], ['Doctorado', 1], ['VI. BIOTECNOLOGIA Y CS. AGROPECUARIAS', 5], [2015, 5], [2017, 3])\n",
      "(['SONORA', 13], ['Doctorado', 1], ['VII. INGENIERIAS', 6], [2015, 5], [2017, 3])\n",
      "(['YUCATAN', 15], ['Doctorado', 1], ['VII. INGENIERIAS', 6], [2015, 5], [2017, 3])\n",
      "(['HIDALGO', 19], ['Doctorado', 1], ['VII. INGENIERIAS', 6], [2015, 5], [2018, 4])\n"
     ]
    }
   ],
   "source": [
    "z=list(zip(lista_estados,lista_grados,lista_areas,lista_inicios,lista_fines))\n",
    "for k in range(0,720,40):\n",
    "    print(z[k])"
   ]
  },
  {
   "cell_type": "code",
   "execution_count": 94,
   "metadata": {},
   "outputs": [],
   "source": [
    "json=\"[\\n\"\n",
    "for j, item in enumerate(z):\n",
    "    x=int(j/27)\n",
    "    y=j%27\n",
    "    new=\"\"\"{{\"x\":{},\"y\":{},\"estado\":\"{}\",\"estado_id\":{},\"grado\":\"{}\",\"grado_id\":{}, \n",
    "        \"area\":\"{}\",\"area_id\":{}, \"s_year\":{}, \"s_year_id\":{}, \"e_year\":{}, \"e_year_id\":{}}},\n",
    "        \"\"\"\n",
    "    json+=new.format(x,y,item[0][0],item[0][1], item[1][0],item[1][1],item[2][0],item[2][1],item[3][0],item[3][1],item[4][0],item[4][1])\n",
    "json=json[:-10]+\"\\n]\"\n",
    "f=open('pairs2015.json','w',encoding=\"utf-8\")\n",
    "f.write(json)\n",
    "f.close()"
   ]
  },
  {
   "cell_type": "code",
   "execution_count": 95,
   "metadata": {},
   "outputs": [
    {
     "name": "stdout",
     "output_type": "stream",
     "text": [
      "<class 'pandas.core.frame.DataFrame'>\n",
      "Int64Index: 70064 entries, 0 to 70063\n",
      "Data columns (total 10 columns):\n",
      "id             70064 non-null object\n",
      "nombre         70064 non-null object\n",
      "inicio         70064 non-null object\n",
      "fin            70064 non-null object\n",
      "grado          70064 non-null object\n",
      "institucion    70064 non-null object\n",
      "entidad        70064 non-null object\n",
      "programa       70064 non-null object\n",
      "area           70064 non-null object\n",
      "importe        70064 non-null object\n",
      "dtypes: object(10)\n",
      "memory usage: 5.9+ MB\n"
     ]
    }
   ],
   "source": [
    "df.info()"
   ]
  },
  {
   "cell_type": "code",
   "execution_count": 96,
   "metadata": {},
   "outputs": [
    {
     "data": {
      "text/plain": [
       "entidad              grado     \n",
       "AGUASCALIENTES       1. DOC          206\n",
       "                     2. MAE          357\n",
       "                     3. ESP            8\n",
       "BAJA CALIFORNIA      1. DOC          748\n",
       "                     2. MAE         2331\n",
       "                     3. ESP          228\n",
       "BAJA CALIFORNIA SUR  1. DOC          226\n",
       "                     2. MAE          322\n",
       "CAMPECHE             1. DOC           17\n",
       "                     2. MAE           91\n",
       "CHIAPAS              1. DOC          188\n",
       "                     2. MAE          534\n",
       "                     3. ESP           32\n",
       "CHIHUAHUA            1. DOC          260\n",
       "                     2. MAE         1309\n",
       "                     3. ESP           61\n",
       "COAHUILA             1. DOC          372\n",
       "                     2. MAE         1151\n",
       "                     3. ESP           52\n",
       "COLIMA               1. DOC          109\n",
       "                     2. MAE          172\n",
       "                     3. ESP           68\n",
       "DISTRITO FEDERAL     1. DOC         8511\n",
       "                     2. MAE        13063\n",
       "                     3. ESP          432\n",
       "                     4. EST TEC      132\n",
       "DURANGO              1. DOC          150\n",
       "                     2. MAE          390\n",
       "ESTADO DE MEXICO     1. DOC         1368\n",
       "                     2. MAE         2821\n",
       "                                   ...  \n",
       "QUERETARO            3. ESP          157\n",
       "QUINTANA ROO         1. DOC           41\n",
       "                     2. MAE          287\n",
       "SAN LUIS POTOSI      1. DOC          633\n",
       "                     2. MAE         1205\n",
       "                     3. ESP          121\n",
       "SINALOA              1. DOC          400\n",
       "                     2. MAE          813\n",
       "                     3. ESP           86\n",
       "SONORA               1. DOC          587\n",
       "                     2. MAE          969\n",
       "                     3. ESP           24\n",
       "TABASCO              1. DOC           93\n",
       "                     2. MAE          227\n",
       "                     3. ESP           38\n",
       "TAMAULIPAS           1. DOC          137\n",
       "                     2. MAE          873\n",
       "                     3. ESP           44\n",
       "TLAXCALA             1. DOC          113\n",
       "                     2. MAE          319\n",
       "                     3. ESP            9\n",
       "VERACRUZ             1. DOC          681\n",
       "                     2. MAE         2121\n",
       "                     3. ESP          321\n",
       "YUCATAN              1. DOC          410\n",
       "                     2. MAE          973\n",
       "                     3. ESP          142\n",
       "ZACATECAS            1. DOC          100\n",
       "                     2. MAE          438\n",
       "                     3. ESP           15\n",
       "Length: 90, dtype: int64"
      ]
     },
     "execution_count": 96,
     "metadata": {},
     "output_type": "execute_result"
    }
   ],
   "source": [
    "df.sort_values(by=\"entidad\").groupby([\"entidad\",\"grado\"]).size()"
   ]
  },
  {
   "cell_type": "code",
   "execution_count": 97,
   "metadata": {},
   "outputs": [
    {
     "name": "stdout",
     "output_type": "stream",
     "text": [
      "['AGUASCALIENTES', 'BAJA CALIFORNIA', 'BAJA CALIFORNIA SUR', 'CAMPECHE', 'CHIAPAS', 'CHIHUAHUA', 'COAHUILA', 'COLIMA', 'DISTRITO FEDERAL', 'DURANGO', 'ESTADO DE MEXICO', 'GUANAJUATO', 'GUERRERO', 'HIDALGO', 'JALISCO', 'MICHOACAN', 'MORELOS', 'NAYARIT', 'NUEVO LEON', 'OAXACA', 'PUEBLA', 'QUERETARO', 'QUINTANA ROO', 'SAN LUIS POTOSI', 'SINALOA', 'SONORA', 'TABASCO', 'TAMAULIPAS', 'TLAXCALA', 'VERACRUZ', 'YUCATAN', 'ZACATECAS']\n",
      "{'Aguascalientes': 571, 'Baja California': 3307, 'Baja California Sur': 548, 'Campeche': 108, 'Chiapas': 754, 'Chihuahua': 1630, 'Coahuila': 1575, 'Colima': 349, 'Distrito Federal': 22138, 'Durango': 540, 'Estado De Mexico': 4466, 'Guanajuato': 2063, 'Guerrero': 345, 'Hidalgo': 675, 'Jalisco': 3944, 'Michoacan': 2283, 'Morelos': 2561, 'Nayarit': 432, 'Nuevo Leon': 3715, 'Oaxaca': 549, 'Puebla': 3264, 'Queretaro': 2027, 'Quintana Roo': 328, 'San Luis Potosi': 1959, 'Sinaloa': 1299, 'Sonora': 1580, 'Tabasco': 358, 'Tamaulipas': 1054, 'Tlaxcala': 441, 'Veracruz': 3123, 'Yucatan': 1525, 'Zacatecas': 553}\n",
      "['AGUASCALIENTES', 'BAJA CALIFORNIA', 'BAJA CALIFORNIA SUR', 'CAMPECHE', 'CHIAPAS', 'CHIHUAHUA', 'COAHUILA', 'COLIMA', 'DISTRITO FEDERAL', 'DURANGO', 'ESTADO DE MEXICO', 'GUANAJUATO', 'GUERRERO', 'HIDALGO', 'JALISCO', 'MICHOACAN', 'MORELOS', 'NAYARIT', 'NUEVO LEON', 'OAXACA', 'PUEBLA', 'QUERETARO', 'QUINTANA ROO', 'SAN LUIS POTOSI', 'SINALOA', 'SONORA', 'TABASCO', 'TAMAULIPAS', 'TLAXCALA', 'VERACRUZ', 'YUCATAN', 'ZACATECAS'] 32\n"
     ]
    }
   ],
   "source": [
    "x=df.sort_values(by=\"entidad\").groupby([\"entidad\"]).size()\n",
    "print(list(x.keys()))\n",
    "total_dict={}\n",
    "for k in x.keys():\n",
    "    total_dict[k.title()]=x[k]\n",
    "print(total_dict)\n",
    "print(list(x.keys()), len(x))"
   ]
  },
  {
   "cell_type": "code",
   "execution_count": 98,
   "metadata": {},
   "outputs": [],
   "source": [
    "x=df.sort_values(by=\"entidad\").groupby([\"entidad\",\"grado\"]).size()\n",
    "y=df.sort_values(by=\"entidad\").groupby([\"entidad\",\"area\"]).size()\n",
    "big_dict={}\n",
    "# for x in x.keys():\n",
    "#     print(x)\n",
    "# for k in x.keys():\n",
    "#     print(k[0].title())\n",
    "for k in x.keys():\n",
    "#     print(\"OK\")\n",
    "    country_dict=big_dict.get(k[0].title(),{})\n",
    "    country_dict[k[1]]=x[k]/total_dict[k[0].title()]\n",
    "    big_dict[k[0].title()]=country_dict\n",
    "for k in y.keys():\n",
    "#     print(\"OK\")\n",
    "    country_dict=big_dict.get(k[0].title(),{})\n",
    "    country_dict[k[1]]=y[k]/total_dict[k[0].title()]\n",
    "    big_dict[k[0].title()]=country_dict\n",
    "# y=x.to_dict()\n",
    "# for j in y.keys():\n",
    "#     print(j)"
   ]
  },
  {
   "cell_type": "code",
   "execution_count": 99,
   "metadata": {},
   "outputs": [],
   "source": [
    "x=list(df.sort_values(by=\"area\").groupby([\"area\"]).size().keys())\n",
    "y=list(df.sort_values(by=\"grado\").groupby([\"grado\"]).size().keys())\n",
    "for j in big_dict:\n",
    "    big_dict[j][\"name\"]=j\n",
    "    big_dict[j][\"total\"]=int(total_dict[j])\n",
    "    for k in x:\n",
    "        big_dict[j][k]=big_dict[j].get(k,0)\n",
    "    for k in y:\n",
    "        big_dict[j][k]=big_dict[j].get(k,0)"
   ]
  },
  {
   "cell_type": "code",
   "execution_count": 100,
   "metadata": {},
   "outputs": [],
   "source": [
    "import json\n",
    "with open(\"estados2015.json\",\"w\") as f:\n",
    "    f.write(json.dumps(list(big_dict.values()),indent=4))"
   ]
  },
  {
   "cell_type": "code",
   "execution_count": null,
   "metadata": {},
   "outputs": [],
   "source": []
  }
 ],
 "metadata": {
  "anaconda-cloud": {},
  "kernelspec": {
   "display_name": "Python 3",
   "language": "python",
   "name": "python3"
  },
  "language_info": {
   "codemirror_mode": {
    "name": "ipython",
    "version": 3
   },
   "file_extension": ".py",
   "mimetype": "text/x-python",
   "name": "python",
   "nbconvert_exporter": "python",
   "pygments_lexer": "ipython3",
   "version": "3.7.0"
  }
 },
 "nbformat": 4,
 "nbformat_minor": 1
}
