{
 "cells": [
  {
   "cell_type": "code",
   "execution_count": 72,
   "metadata": {},
   "outputs": [],
   "source": [
    "import pandas as pd\n",
    "import numpy as np\n"
   ]
  },
  {
   "cell_type": "code",
   "execution_count": 73,
   "metadata": {},
   "outputs": [],
   "source": [
    "df=pd.read_csv(\"data2016.csv\", encoding=\"utf-8\")"
   ]
  },
  {
   "cell_type": "code",
   "execution_count": 74,
   "metadata": {
    "scrolled": true
   },
   "outputs": [
    {
     "name": "stdout",
     "output_type": "stream",
     "text": [
      "<class 'pandas.core.frame.DataFrame'>\n",
      "RangeIndex: 72113 entries, 0 to 72112\n",
      "Data columns (total 10 columns):\n",
      "id             72113 non-null int64\n",
      "nombre         72113 non-null object\n",
      "inicio         72110 non-null object\n",
      "fin            72108 non-null object\n",
      "grado          72110 non-null object\n",
      "institucion    72113 non-null object\n",
      "entidad        72113 non-null object\n",
      "programa       72113 non-null object\n",
      "area           72113 non-null object\n",
      "importe        72113 non-null object\n",
      "dtypes: int64(1), object(9)\n",
      "memory usage: 5.5+ MB\n"
     ]
    },
    {
     "data": {
      "text/html": [
       "<div>\n",
       "<style scoped>\n",
       "    .dataframe tbody tr th:only-of-type {\n",
       "        vertical-align: middle;\n",
       "    }\n",
       "\n",
       "    .dataframe tbody tr th {\n",
       "        vertical-align: top;\n",
       "    }\n",
       "\n",
       "    .dataframe thead th {\n",
       "        text-align: right;\n",
       "    }\n",
       "</style>\n",
       "<table border=\"1\" class=\"dataframe\">\n",
       "  <thead>\n",
       "    <tr style=\"text-align: right;\">\n",
       "      <th></th>\n",
       "      <th>id</th>\n",
       "      <th>nombre</th>\n",
       "      <th>inicio</th>\n",
       "      <th>fin</th>\n",
       "      <th>grado</th>\n",
       "      <th>institucion</th>\n",
       "      <th>entidad</th>\n",
       "      <th>programa</th>\n",
       "      <th>area</th>\n",
       "      <th>importe</th>\n",
       "    </tr>\n",
       "  </thead>\n",
       "  <tbody>\n",
       "    <tr>\n",
       "      <th>0</th>\n",
       "      <td>1</td>\n",
       "      <td>SOLANO DE LA CRUZ MARCO TULIO</td>\n",
       "      <td>01/08/2011</td>\n",
       "      <td>31/07/2016</td>\n",
       "      <td>1. DOC</td>\n",
       "      <td>U VERACRUZANA</td>\n",
       "      <td>VERACRUZ</td>\n",
       "      <td>DOCTORADO EN CIENCIAS EN ECOLOGIA Y BIOTECNOLOGIA</td>\n",
       "      <td>VI. BIOTECNOLOGIA Y CS. AGROPECUARIAS</td>\n",
       "      <td>144619.2</td>\n",
       "    </tr>\n",
       "    <tr>\n",
       "      <th>1</th>\n",
       "      <td>2</td>\n",
       "      <td>CERVANTES ALDAY RAQUEL</td>\n",
       "      <td>01/08/2011</td>\n",
       "      <td>31/07/2016</td>\n",
       "      <td>1. DOC</td>\n",
       "      <td>U VERACRUZANA</td>\n",
       "      <td>VERACRUZ</td>\n",
       "      <td>DOCTORADO EN CIENCIAS EN ECOLOGIA Y BIOTECNOLOGIA</td>\n",
       "      <td>VI. BIOTECNOLOGIA Y CS. AGROPECUARIAS</td>\n",
       "      <td>157766.4</td>\n",
       "    </tr>\n",
       "    <tr>\n",
       "      <th>2</th>\n",
       "      <td>3</td>\n",
       "      <td>GARCIA SILVERA EDGAR EDURMAN</td>\n",
       "      <td>08/08/2011</td>\n",
       "      <td>30/01/2017</td>\n",
       "      <td>1. DOC</td>\n",
       "      <td>UA EDO MORELOS</td>\n",
       "      <td>MORELOS</td>\n",
       "      <td>DOCTORADO EN CIENCIAS BIOQUIMICAS</td>\n",
       "      <td>II. BIOLOGIA Y QUIMICA</td>\n",
       "      <td>157766.4</td>\n",
       "    </tr>\n",
       "    <tr>\n",
       "      <th>3</th>\n",
       "      <td>4</td>\n",
       "      <td>PARRA TORRES ALMA YOLILIZTLI</td>\n",
       "      <td>08/08/2011</td>\n",
       "      <td>31/01/2017</td>\n",
       "      <td>1. DOC</td>\n",
       "      <td>UNAM</td>\n",
       "      <td>DISTRITO FEDERAL</td>\n",
       "      <td>DOCTORADO EN CIENCIAS BIOMEDICAS</td>\n",
       "      <td>II. BIOLOGIA Y QUIMICA</td>\n",
       "      <td>157766.4</td>\n",
       "    </tr>\n",
       "    <tr>\n",
       "      <th>4</th>\n",
       "      <td>5</td>\n",
       "      <td>SANCHEZ MONROY MA. BEATRIZ</td>\n",
       "      <td>08/08/2011</td>\n",
       "      <td>31/01/2017</td>\n",
       "      <td>1. DOC</td>\n",
       "      <td>UNAM</td>\n",
       "      <td>DISTRITO FEDERAL</td>\n",
       "      <td>DOCTORADO EN CIENCIAS BIOMEDICAS</td>\n",
       "      <td>II. BIOLOGIA Y QUIMICA</td>\n",
       "      <td>157766.4</td>\n",
       "    </tr>\n",
       "  </tbody>\n",
       "</table>\n",
       "</div>"
      ],
      "text/plain": [
       "   id                         nombre      inicio         fin   grado  \\\n",
       "0   1  SOLANO DE LA CRUZ MARCO TULIO  01/08/2011  31/07/2016  1. DOC   \n",
       "1   2         CERVANTES ALDAY RAQUEL  01/08/2011  31/07/2016  1. DOC   \n",
       "2   3   GARCIA SILVERA EDGAR EDURMAN  08/08/2011  30/01/2017  1. DOC   \n",
       "3   4   PARRA TORRES ALMA YOLILIZTLI  08/08/2011  31/01/2017  1. DOC   \n",
       "4   5     SANCHEZ MONROY MA. BEATRIZ  08/08/2011  31/01/2017  1. DOC   \n",
       "\n",
       "      institucion           entidad  \\\n",
       "0   U VERACRUZANA          VERACRUZ   \n",
       "1   U VERACRUZANA          VERACRUZ   \n",
       "2  UA EDO MORELOS           MORELOS   \n",
       "3            UNAM  DISTRITO FEDERAL   \n",
       "4            UNAM  DISTRITO FEDERAL   \n",
       "\n",
       "                                            programa  \\\n",
       "0  DOCTORADO EN CIENCIAS EN ECOLOGIA Y BIOTECNOLOGIA   \n",
       "1  DOCTORADO EN CIENCIAS EN ECOLOGIA Y BIOTECNOLOGIA   \n",
       "2                  DOCTORADO EN CIENCIAS BIOQUIMICAS   \n",
       "3                   DOCTORADO EN CIENCIAS BIOMEDICAS   \n",
       "4                   DOCTORADO EN CIENCIAS BIOMEDICAS   \n",
       "\n",
       "                                    area   importe  \n",
       "0  VI. BIOTECNOLOGIA Y CS. AGROPECUARIAS  144619.2  \n",
       "1  VI. BIOTECNOLOGIA Y CS. AGROPECUARIAS  157766.4  \n",
       "2                 II. BIOLOGIA Y QUIMICA  157766.4  \n",
       "3                 II. BIOLOGIA Y QUIMICA  157766.4  \n",
       "4                 II. BIOLOGIA Y QUIMICA  157766.4  "
      ]
     },
     "execution_count": 74,
     "metadata": {},
     "output_type": "execute_result"
    }
   ],
   "source": [
    "df.info()\n",
    "df.head()"
   ]
  },
  {
   "cell_type": "code",
   "execution_count": 75,
   "metadata": {},
   "outputs": [
    {
     "name": "stdout",
     "output_type": "stream",
     "text": [
      "[6873, 7258, 53198, 71957, 71959, 71960]\n"
     ]
    }
   ],
   "source": [
    "# Clean the data\n",
    "# Find NaNs indexes\n",
    "nans = lambda df: df[df.isnull().any(axis=1)]\n",
    "nans_indexes = list(nans(df).index)\n",
    "print(nans_indexes)"
   ]
  },
  {
   "cell_type": "code",
   "execution_count": 76,
   "metadata": {
    "scrolled": true
   },
   "outputs": [
    {
     "name": "stdout",
     "output_type": "stream",
     "text": [
      "[]\n",
      "<class 'pandas.core.frame.DataFrame'>\n",
      "Int64Index: 72107 entries, 0 to 72112\n",
      "Data columns (total 10 columns):\n",
      "id             72107 non-null int64\n",
      "nombre         72107 non-null object\n",
      "inicio         72107 non-null object\n",
      "fin            72107 non-null object\n",
      "grado          72107 non-null object\n",
      "institucion    72107 non-null object\n",
      "entidad        72107 non-null object\n",
      "programa       72107 non-null object\n",
      "area           72107 non-null object\n",
      "importe        72107 non-null object\n",
      "dtypes: int64(1), object(9)\n",
      "memory usage: 6.1+ MB\n"
     ]
    }
   ],
   "source": [
    "# Inicio has weird date sometimes\n",
    "invalid = df[df[\"inicio\"]==\"-\"]\n",
    "invalid_indexes = list(invalid.index)\n",
    "print(invalid_indexes)\n",
    "\n",
    "invalid=invalid_indexes+nans_indexes\n",
    "df=df.drop(invalid)\n",
    "df.info()"
   ]
  },
  {
   "cell_type": "code",
   "execution_count": 63,
   "metadata": {},
   "outputs": [],
   "source": [
    "df.to_csv(\"data2016clean.csv\", encoding=\"utf-8\")"
   ]
  },
  {
   "cell_type": "code",
   "execution_count": 77,
   "metadata": {},
   "outputs": [],
   "source": [
    "#Normalizing factor for visualization\n",
    "factor=729/72107"
   ]
  },
  {
   "cell_type": "code",
   "execution_count": 78,
   "metadata": {},
   "outputs": [
    {
     "name": "stdout",
     "output_type": "stream",
     "text": [
      "[['DISTRITO FEDERAL', 233], ['ESTADO DE MEXICO', 43], ['JALISCO', 41], ['NUEVO LEON', 36], ['PUEBLA', 35], ['BAJA CALIFORNIA', 32], ['VERACRUZ', 31], ['MORELOS', 26], ['MICHOACAN', 22], ['GUANAJUATO', 21], ['QUERETARO', 21], ['SAN LUIS POTOSI', 20], ['SONORA', 17], ['YUCATAN', 17], ['COAHUILA', 15], ['CHIHUAHUA', 14], ['SINALOA', 13], ['TAMAULIPAS', 10], ['CHIAPAS', 8], ['HIDALGO', 7], ['OAXACA', 6], ['BAJA CALIFORNIA SUR', 5], ['AGUASCALIENTES', 5], ['GUERRERO', 5], ['DURANGO', 5], ['TABASCO', 4], ['TLAXCALA', 4], ['ZACATECAS', 4], ['QUINTANA ROO', 3], ['NAYARIT', 3], ['COLIMA', 3], ['CAMPECHE', 1]]\n",
      "\n",
      "[['DISTRITO FEDERAL', 0], ['DISTRITO FEDERAL', 0], ['DISTRITO FEDERAL', 0], ['DISTRITO FEDERAL', 0]] \n",
      " 729\n"
     ]
    }
   ],
   "source": [
    "#Becarios by state\n",
    "x=df[[\"entidad\"]].groupby(\"entidad\").size().sort_values(ascending=False)\n",
    "estados=[[x.keys()[i],int(factor*j)] for i,j in enumerate(x)]\n",
    "print(estados)\n",
    "#Round-off errors\n",
    "for j in range(19):\n",
    "    estados[j][1]+=1\n",
    "#List of states to zip\n",
    "lista_estados= []\n",
    "for i in range(32):\n",
    "    lista_estados+=estados[i][1]*[[estados[i][0],i]]\n",
    "print()\n",
    "print([lista_estados[j] for j in range(4)],\"\\n\" ,len(lista_estados))"
   ]
  },
  {
   "cell_type": "code",
   "execution_count": 79,
   "metadata": {},
   "outputs": [
    {
     "name": "stdout",
     "output_type": "stream",
     "text": [
      "[['2. MAE', 464], ['1. DOC', 233], ['3. ESP', 29], ['4. EST TEC', 1]]\n",
      "\n",
      "[['Maestría', 0], ['Maestría', 0], ['Maestría', 0], ['Maestría', 0]] \n",
      " 729\n"
     ]
    }
   ],
   "source": [
    "#Becarios por grado\n",
    "x=df[[\"grado\"]].groupby(\"grado\").size().sort_values(ascending=False)\n",
    "grados=[[x.keys()[i],int(factor*j)] for i,j in enumerate(x)]\n",
    "print(grados)\n",
    "#Ajustar para que de 729\n",
    "grados[0][0]=\"Maestría\"\n",
    "grados[1][0]=\"Doctorado\"\n",
    "grados[2][0]=\"Especialidad\"\n",
    "grados[3][0]=\"Estancia Técnica\"\n",
    "grados[0][1]+=1\n",
    "grados[1][1]+=1\n",
    "#Crear la lista de la que haremos zip\n",
    "lista_grados = []\n",
    "for i in range(4):\n",
    "    lista_grados+=grados[i][1]*[[grados[i][0],i]]\n",
    "print()\n",
    "print([lista_grados[j] for j in range(4)],\"\\n\" ,len(lista_grados))"
   ]
  },
  {
   "cell_type": "code",
   "execution_count": 82,
   "metadata": {},
   "outputs": [
    {
     "name": "stdout",
     "output_type": "stream",
     "text": [
      "[['I. FISICO MATEMATICAS Y CS. DE LA TIERRA', 58], ['II. BIOLOGIA Y QUIMICA', 92], ['III. MEDICINA Y CS. DE LA SALUD', 65], ['IV. HUMANIDADES Y CS. DE LA CONDUCTA', 108], ['N/D', 0], ['V. CIENCIAS SOCIALES', 158], ['VI. BIOTECNOLOGIA Y CS. AGROPECUARIAS', 83], ['VII. INGENIERIAS', 161]]\n",
      "[['I. FISICO MATEMATICAS Y CS. DE LA TIERRA', 58], ['II. BIOLOGIA Y QUIMICA', 92], ['III. MEDICINA Y CS. DE LA SALUD', 65], ['IV. HUMANIDADES Y CS. DE LA CONDUCTA', 108], ['V. CIENCIAS SOCIALES', 158], ['VI. BIOTECNOLOGIA Y CS. AGROPECUARIAS', 83], ['VII. INGENIERIAS', 161]]\n",
      "729\n",
      "[['I. FISICO MATEMATICAS Y CS. DE LA TIERRA', 0], ['I. FISICO MATEMATICAS Y CS. DE LA TIERRA', 0], ['I. FISICO MATEMATICAS Y CS. DE LA TIERRA', 0], ['I. FISICO MATEMATICAS Y CS. DE LA TIERRA', 0]]\n"
     ]
    }
   ],
   "source": [
    "#Becarios por area\n",
    "x=df[[\"area\"]].groupby(\"area\").size().sort_values(ascending=False)\n",
    "areas=[[x.keys()[i],int(factor*j)] for i,j in enumerate(x)]\n",
    "areas.sort(key=lambda j:j[0])\n",
    "#Ajustar para que de 729\n",
    "print(areas)\n",
    "del(areas[4])\n",
    "print(areas)\n",
    "for j in range(1,4):\n",
    "    areas[j][1]+=1\n",
    "sum([x[1] for x in areas])\n",
    "areas[1][1]+=1\n",
    "#Crear la lista de la que haremos zip\n",
    "lista_areas = []\n",
    "total=0\n",
    "for i in range(7):\n",
    "    lista_areas+=areas[i][1]*[[areas[i][0],i]]\n",
    "    total+=areas[i][1]\n",
    "print(total)\n",
    "print([lista_areas[j] for j in range(4)])"
   ]
  },
  {
   "cell_type": "code",
   "execution_count": 84,
   "metadata": {},
   "outputs": [
    {
     "name": "stdout",
     "output_type": "stream",
     "text": [
      "['2017', '2017', '2017', '2017', '2017', '2016', '2016', '2016', '2016']\n",
      "[[2006, 0], [2010, 0], [2011, 1], [2012, 29], [2013, 43], [2014, 175], [2015, 230], [2016, 249], [2017, 0]]\n",
      "[[2011, 2], [2012, 29], [2013, 43], [2014, 175], [2015, 230], [2016, 250]]\n",
      "\n",
      "[[2011, 0], [2011, 0], [2012, 1], [2012, 1]] 729\n"
     ]
    }
   ],
   "source": [
    "#Becarios por año inicio\n",
    "x=[str(a)[-4:] for a in df[\"inicio\"]]\n",
    "x.sort()\n",
    "print(x[-1:-10:-1])\n",
    "#Clean conflictive data\n",
    "x=x[:-4]\n",
    "inicios={}\n",
    "for a in x:\n",
    "    inicios[a]=inicios.get(a,0)+1\n",
    "inicios = [[int(a),int(factor*inicios[a])] for a in inicios]\n",
    "inicios.sort(key=lambda x:x[0])\n",
    "print(inicios)\n",
    "del(inicios[0],inicios[0],inicios[-1])\n",
    "#Ajuste 729\n",
    "inicios[0][1]+=1\n",
    "inicios[5][1]+=1\n",
    "print(inicios)\n",
    "lista_inicios = []\n",
    "for i in range(6):\n",
    "    lista_inicios+=inicios[i][1]*[[inicios[i][0],i]]\n",
    "print()\n",
    "print([lista_inicios[j] for j in range(4)],len(lista_inicios))"
   ]
  },
  {
   "cell_type": "code",
   "execution_count": 89,
   "metadata": {},
   "outputs": [
    {
     "name": "stdout",
     "output_type": "stream",
     "text": [
      "[[2010, 0], [2015, 0], [2016, 220], [2017, 224], [2018, 196], [2019, 49], [2020, 37], [2021, 1]]\n",
      "[[2015, 1], [2016, 220], [2017, 225], [2018, 196], [2019, 50], [2020, 37]]\n",
      "729\n",
      "\n",
      "[[2015, 0], [2016, 1], [2016, 1], [2016, 1]]\n"
     ]
    }
   ],
   "source": [
    "#Becarios por año fin\n",
    "x=[str(a)[-4:] for a in df[\"fin\"]]\n",
    "x.sort()\n",
    "#Clean conflictive data\n",
    "x=x[:-4]\n",
    "fines={}\n",
    "for a in x:\n",
    "    fines[a]=fines.get(a,0)+1\n",
    "fines = [[int(a),int(factor*fines[a])] for a in fines]\n",
    "fines.sort(key=lambda x:x[0])\n",
    "print(fines)\n",
    "del(fines[0],fines[-1])\n",
    "#Ajuste 729\n",
    "fines[0][1]+=1\n",
    "fines[4][1]+=1\n",
    "fines[2][1]+=1\n",
    "print(fines)\n",
    "print(sum([x[1] for x in fines]))\n",
    "lista_fines = []\n",
    "for i in range(6):\n",
    "    lista_fines+=fines[i][1]*[[fines[i][0],i]]\n",
    "print()\n",
    "print([lista_fines[j] for j in range(4)])"
   ]
  },
  {
   "cell_type": "code",
   "execution_count": 90,
   "metadata": {},
   "outputs": [
    {
     "name": "stdout",
     "output_type": "stream",
     "text": [
      "(['DISTRITO FEDERAL', 0], ['Maestría', 0], ['I. FISICO MATEMATICAS Y CS. DE LA TIERRA', 0], [2011, 0], [2015, 0])\n",
      "(['DISTRITO FEDERAL', 0], ['Maestría', 0], ['I. FISICO MATEMATICAS Y CS. DE LA TIERRA', 0], [2013, 2], [2016, 1])\n",
      "(['DISTRITO FEDERAL', 0], ['Maestría', 0], ['II. BIOLOGIA Y QUIMICA', 1], [2014, 3], [2016, 1])\n",
      "(['DISTRITO FEDERAL', 0], ['Maestría', 0], ['II. BIOLOGIA Y QUIMICA', 1], [2014, 3], [2016, 1])\n",
      "(['DISTRITO FEDERAL', 0], ['Maestría', 0], ['III. MEDICINA Y CS. DE LA SALUD', 2], [2014, 3], [2016, 1])\n",
      "(['DISTRITO FEDERAL', 0], ['Maestría', 0], ['III. MEDICINA Y CS. DE LA SALUD', 2], [2014, 3], [2016, 1])\n",
      "(['ESTADO DE MEXICO', 1], ['Maestría', 0], ['IV. HUMANIDADES Y CS. DE LA CONDUCTA', 3], [2014, 3], [2017, 2])\n",
      "(['JALISCO', 2], ['Maestría', 0], ['IV. HUMANIDADES Y CS. DE LA CONDUCTA', 3], [2015, 4], [2017, 2])\n",
      "(['NUEVO LEON', 3], ['Maestría', 0], ['IV. HUMANIDADES Y CS. DE LA CONDUCTA', 3], [2015, 4], [2017, 2])\n",
      "(['PUEBLA', 4], ['Maestría', 0], ['V. CIENCIAS SOCIALES', 4], [2015, 4], [2017, 2])\n",
      "(['BAJA CALIFORNIA', 5], ['Maestría', 0], ['V. CIENCIAS SOCIALES', 4], [2015, 4], [2017, 2])\n",
      "(['VERACRUZ', 6], ['Maestría', 0], ['V. CIENCIAS SOCIALES', 4], [2015, 4], [2017, 2])\n",
      "(['MORELOS', 7], ['Doctorado', 1], ['V. CIENCIAS SOCIALES', 4], [2016, 5], [2018, 3])\n",
      "(['GUANAJUATO', 9], ['Doctorado', 1], ['VI. BIOTECNOLOGIA Y CS. AGROPECUARIAS', 5], [2016, 5], [2018, 3])\n",
      "(['SAN LUIS POTOSI', 11], ['Doctorado', 1], ['VI. BIOTECNOLOGIA Y CS. AGROPECUARIAS', 5], [2016, 5], [2018, 3])\n",
      "(['YUCATAN', 13], ['Doctorado', 1], ['VII. INGENIERIAS', 6], [2016, 5], [2018, 3])\n",
      "(['SINALOA', 16], ['Doctorado', 1], ['VII. INGENIERIAS', 6], [2016, 5], [2018, 3])\n",
      "(['HIDALGO', 19], ['Doctorado', 1], ['VII. INGENIERIAS', 6], [2016, 5], [2019, 4])\n"
     ]
    }
   ],
   "source": [
    "z=list(zip(lista_estados,lista_grados,lista_areas,lista_inicios,lista_fines))\n",
    "for k in range(0,720,40):\n",
    "    print(z[k])"
   ]
  },
  {
   "cell_type": "code",
   "execution_count": 91,
   "metadata": {},
   "outputs": [],
   "source": [
    "json=\"[\\n\"\n",
    "for j, item in enumerate(z):\n",
    "    x=int(j/27)\n",
    "    y=j%27\n",
    "    new=\"\"\"{{\"x\":{},\"y\":{},\"estado\":\"{}\",\"estado_id\":{},\"grado\":\"{}\",\"grado_id\":{}, \n",
    "        \"area\":\"{}\",\"area_id\":{}, \"s_year\":{}, \"s_year_id\":{}, \"e_year\":{}, \"e_year_id\":{}}},\n",
    "        \"\"\"\n",
    "    json+=new.format(x,y,item[0][0],item[0][1], item[1][0],item[1][1],item[2][0],item[2][1],item[3][0],item[3][1],item[4][0],item[4][1])\n",
    "json=json[:-10]+\"\\n]\"\n",
    "f=open('pairs2016.json','w',encoding=\"utf-8\")\n",
    "f.write(json)\n",
    "f.close()"
   ]
  },
  {
   "cell_type": "code",
   "execution_count": 92,
   "metadata": {},
   "outputs": [
    {
     "name": "stdout",
     "output_type": "stream",
     "text": [
      "<class 'pandas.core.frame.DataFrame'>\n",
      "Int64Index: 72107 entries, 0 to 72112\n",
      "Data columns (total 10 columns):\n",
      "id             72107 non-null int64\n",
      "nombre         72107 non-null object\n",
      "inicio         72107 non-null object\n",
      "fin            72107 non-null object\n",
      "grado          72107 non-null object\n",
      "institucion    72107 non-null object\n",
      "entidad        72107 non-null object\n",
      "programa       72107 non-null object\n",
      "area           72107 non-null object\n",
      "importe        72107 non-null object\n",
      "dtypes: int64(1), object(9)\n",
      "memory usage: 6.1+ MB\n"
     ]
    }
   ],
   "source": [
    "df.info()"
   ]
  },
  {
   "cell_type": "code",
   "execution_count": 93,
   "metadata": {},
   "outputs": [
    {
     "data": {
      "text/plain": [
       "entidad              grado     \n",
       "AGUASCALIENTES       1. DOC          221\n",
       "                     2. MAE          363\n",
       "                     3. ESP            5\n",
       "BAJA CALIFORNIA      1. DOC          806\n",
       "                     2. MAE         2229\n",
       "                     3. ESP          217\n",
       "BAJA CALIFORNIA SUR  1. DOC          235\n",
       "                     2. MAE          357\n",
       "CAMPECHE             1. DOC           17\n",
       "                     2. MAE          123\n",
       "CHIAPAS              1. DOC          250\n",
       "                     2. MAE          610\n",
       "                     3. ESP           30\n",
       "CHIHUAHUA            1. DOC          284\n",
       "                     2. MAE         1059\n",
       "                     3. ESP           63\n",
       "COAHUILA             1. DOC          417\n",
       "                     2. MAE         1103\n",
       "                     3. ESP           47\n",
       "COLIMA               1. DOC          105\n",
       "                     2. MAE          183\n",
       "                     3. ESP           58\n",
       "DISTRITO FEDERAL     1. DOC         8922\n",
       "                     2. MAE        13500\n",
       "                     3. ESP          533\n",
       "                     4. EST TEC      115\n",
       "DURANGO              1. DOC          169\n",
       "                     2. MAE          370\n",
       "ESTADO DE MEXICO     1. DOC         1406\n",
       "                     2. MAE         2619\n",
       "                                   ...  \n",
       "QUERETARO            3. ESP          147\n",
       "QUINTANA ROO         1. DOC           57\n",
       "                     2. MAE          311\n",
       "SAN LUIS POTOSI      1. DOC          625\n",
       "                     2. MAE         1221\n",
       "                     3. ESP          138\n",
       "SINALOA              1. DOC          398\n",
       "                     2. MAE          833\n",
       "                     3. ESP          107\n",
       "SONORA               1. DOC          609\n",
       "                     2. MAE         1090\n",
       "                     3. ESP           13\n",
       "TABASCO              1. DOC          130\n",
       "                     2. MAE          325\n",
       "                     3. ESP           38\n",
       "TAMAULIPAS           1. DOC          158\n",
       "                     2. MAE          849\n",
       "                     3. ESP           72\n",
       "TLAXCALA             1. DOC          119\n",
       "                     2. MAE          361\n",
       "                     3. ESP           10\n",
       "VERACRUZ             1. DOC          691\n",
       "                     2. MAE         2128\n",
       "                     3. ESP          285\n",
       "YUCATAN              1. DOC          445\n",
       "                     2. MAE         1091\n",
       "                     3. ESP          160\n",
       "ZACATECAS            1. DOC          140\n",
       "                     2. MAE          337\n",
       "                     3. ESP           11\n",
       "Length: 92, dtype: int64"
      ]
     },
     "execution_count": 93,
     "metadata": {},
     "output_type": "execute_result"
    }
   ],
   "source": [
    "df.sort_values(by=\"entidad\").groupby([\"entidad\",\"grado\"]).size()"
   ]
  },
  {
   "cell_type": "code",
   "execution_count": 97,
   "metadata": {},
   "outputs": [
    {
     "name": "stdout",
     "output_type": "stream",
     "text": [
      "['AGUASCALIENTES', 'BAJA CALIFORNIA', 'BAJA CALIFORNIA SUR', 'CAMPECHE', 'CHIAPAS', 'CHIHUAHUA', 'COAHUILA', 'COLIMA', 'DISTRITO FEDERAL', 'DURANGO', 'ESTADO DE MEXICO', 'GUANAJUATO', 'GUERRERO', 'HIDALGO', 'JALISCO', 'MICHOACAN', 'MORELOS', 'NAYARIT', 'NUEVO LEON', 'OAXACA', 'PUEBLA', 'QUERETARO', 'QUINTANA ROO', 'SAN LUIS POTOSI', 'SINALOA', 'SONORA', 'TABASCO', 'TAMAULIPAS', 'TLAXCALA', 'VERACRUZ', 'YUCATAN', 'ZACATECAS']\n",
      "{'Aguascalientes': 589, 'Baja California': 3252, 'Baja California Sur': 592, 'Campeche': 140, 'Chiapas': 890, 'Chihuahua': 1406, 'Coahuila': 1567, 'Colima': 346, 'Distrito Federal': 23070, 'Durango': 539, 'Estado De Mexico': 4345, 'Guanajuato': 2170, 'Guerrero': 556, 'Hidalgo': 730, 'Jalisco': 4088, 'Michoacan': 2178, 'Morelos': 2642, 'Nayarit': 350, 'Nuevo Leon': 3650, 'Oaxaca': 626, 'Puebla': 3463, 'Queretaro': 2166, 'Quintana Roo': 368, 'San Luis Potosi': 1984, 'Sinaloa': 1338, 'Sonora': 1712, 'Tabasco': 493, 'Tamaulipas': 1079, 'Tlaxcala': 490, 'Veracruz': 3104, 'Yucatan': 1696, 'Zacatecas': 488}\n",
      "['AGUASCALIENTES', 'BAJA CALIFORNIA', 'BAJA CALIFORNIA SUR', 'CAMPECHE', 'CHIAPAS', 'CHIHUAHUA', 'COAHUILA', 'COLIMA', 'DISTRITO FEDERAL', 'DURANGO', 'ESTADO DE MEXICO', 'GUANAJUATO', 'GUERRERO', 'HIDALGO', 'JALISCO', 'MICHOACAN', 'MORELOS', 'NAYARIT', 'NUEVO LEON', 'OAXACA', 'PUEBLA', 'QUERETARO', 'QUINTANA ROO', 'SAN LUIS POTOSI', 'SINALOA', 'SONORA', 'TABASCO', 'TAMAULIPAS', 'TLAXCALA', 'VERACRUZ', 'YUCATAN', 'ZACATECAS'] 32\n"
     ]
    }
   ],
   "source": [
    "x=df.sort_values(by=\"entidad\").groupby([\"entidad\"]).size()\n",
    "print(list(x.keys()))\n",
    "total_dict={}\n",
    "for k in x.keys():\n",
    "    total_dict[k.title()]=x[k]\n",
    "print(total_dict)\n",
    "print(list(x.keys()), len(x))"
   ]
  },
  {
   "cell_type": "code",
   "execution_count": 98,
   "metadata": {},
   "outputs": [],
   "source": [
    "x=df.sort_values(by=\"entidad\").groupby([\"entidad\",\"grado\"]).size()\n",
    "y=df.sort_values(by=\"entidad\").groupby([\"entidad\",\"area\"]).size()\n",
    "big_dict={}\n",
    "# for x in x.keys():\n",
    "#     print(x)\n",
    "# for k in x.keys():\n",
    "#     print(k[0].title())\n",
    "for k in x.keys():\n",
    "#     print(\"OK\")\n",
    "    country_dict=big_dict.get(k[0].title(),{})\n",
    "    country_dict[k[1]]=x[k]/total_dict[k[0].title()]\n",
    "    big_dict[k[0].title()]=country_dict\n",
    "for k in y.keys():\n",
    "#     print(\"OK\")\n",
    "    country_dict=big_dict.get(k[0].title(),{})\n",
    "    country_dict[k[1]]=y[k]/total_dict[k[0].title()]\n",
    "    big_dict[k[0].title()]=country_dict\n",
    "# y=x.to_dict()\n",
    "# for j in y.keys():\n",
    "#     print(j)"
   ]
  },
  {
   "cell_type": "code",
   "execution_count": 99,
   "metadata": {},
   "outputs": [],
   "source": [
    "x=list(df.sort_values(by=\"area\").groupby([\"area\"]).size().keys())\n",
    "y=list(df.sort_values(by=\"grado\").groupby([\"grado\"]).size().keys())\n",
    "for j in big_dict:\n",
    "    big_dict[j][\"name\"]=j\n",
    "    big_dict[j][\"total\"]=int(total_dict[j])\n",
    "    for k in x:\n",
    "        big_dict[j][k]=big_dict[j].get(k,0)\n",
    "    for k in y:\n",
    "        big_dict[j][k]=big_dict[j].get(k,0)"
   ]
  },
  {
   "cell_type": "code",
   "execution_count": 101,
   "metadata": {},
   "outputs": [],
   "source": [
    "import json\n",
    "with open(\"estados2016.json\",\"w\") as f:\n",
    "    f.write(json.dumps(list(big_dict.values()),indent=4))"
   ]
  }
 ],
 "metadata": {
  "anaconda-cloud": {},
  "kernelspec": {
   "display_name": "Python 3",
   "language": "python",
   "name": "python3"
  },
  "language_info": {
   "codemirror_mode": {
    "name": "ipython",
    "version": 3
   },
   "file_extension": ".py",
   "mimetype": "text/x-python",
   "name": "python",
   "nbconvert_exporter": "python",
   "pygments_lexer": "ipython3",
   "version": "3.7.0"
  }
 },
 "nbformat": 4,
 "nbformat_minor": 1
}
