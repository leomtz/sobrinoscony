{
 "cells": [
  {
   "cell_type": "code",
   "execution_count": 2,
   "metadata": {},
   "outputs": [],
   "source": [
    "import pandas as pd\n",
    "import numpy as np\n"
   ]
  },
  {
   "cell_type": "code",
   "execution_count": null,
   "metadata": {
    "collapsed": true
   },
   "outputs": [],
   "source": [
    "df=pd.read_csv(\"data-clean.csv\", encoding=\"utf-8\")"
   ]
  },
  {
   "cell_type": "code",
   "execution_count": 48,
   "metadata": {
    "scrolled": true
   },
   "outputs": [
    {
     "name": "stdout",
     "output_type": "stream",
     "text": [
      "<class 'pandas.core.frame.DataFrame'>\n",
      "RangeIndex: 72112 entries, 0 to 72111\n",
      "Data columns (total 10 columns):\n",
      "﻿id            72111 non-null object\n",
      "nombre         72108 non-null object\n",
      "inicio         72105 non-null object\n",
      "fin            72105 non-null object\n",
      "grado          72105 non-null object\n",
      "institucion    72108 non-null object\n",
      "entidad        72108 non-null object\n",
      "programa       72108 non-null object\n",
      "area           72105 non-null object\n",
      "monto          72108 non-null object\n",
      "dtypes: object(10)\n",
      "memory usage: 5.5+ MB\n"
     ]
    },
    {
     "data": {
      "text/html": [
       "<div>\n",
       "<table border=\"1\" class=\"dataframe\">\n",
       "  <thead>\n",
       "    <tr style=\"text-align: right;\">\n",
       "      <th></th>\n",
       "      <th>﻿id</th>\n",
       "      <th>nombre</th>\n",
       "      <th>inicio</th>\n",
       "      <th>fin</th>\n",
       "      <th>grado</th>\n",
       "      <th>institucion</th>\n",
       "      <th>entidad</th>\n",
       "      <th>programa</th>\n",
       "      <th>area</th>\n",
       "      <th>monto</th>\n",
       "    </tr>\n",
       "  </thead>\n",
       "  <tbody>\n",
       "    <tr>\n",
       "      <th>0</th>\n",
       "      <td>1</td>\n",
       "      <td>ARELLANO PATRICIA</td>\n",
       "      <td>01/01/2016</td>\n",
       "      <td>31/12/2017</td>\n",
       "      <td>2. MAE</td>\n",
       "      <td>UA CIUDAD JUAREZ</td>\n",
       "      <td>CHIHUAHUA</td>\n",
       "      <td>MAESTRIA EN ESTUDIOS LITERARIOS</td>\n",
       "      <td>IV. HUMANIDADES Y CS. DE LA CONDUCTA</td>\n",
       "      <td>9,860.40</td>\n",
       "    </tr>\n",
       "    <tr>\n",
       "      <th>1</th>\n",
       "      <td>2</td>\n",
       "      <td>A LA TORRE ISLAS MARCO ALBERTO</td>\n",
       "      <td>01/02/2015</td>\n",
       "      <td>31/01/2019</td>\n",
       "      <td>1. DOC</td>\n",
       "      <td>CIAD</td>\n",
       "      <td>SONORA</td>\n",
       "      <td>DOCTORADO EN DESARRROLLO REGIONAL</td>\n",
       "      <td>V. CIENCIAS SOCIALES</td>\n",
       "      <td>164,610.60</td>\n",
       "    </tr>\n",
       "    <tr>\n",
       "      <th>2</th>\n",
       "      <td>3</td>\n",
       "      <td>AANDERUD OCHOA MICHELLE PATRICIA</td>\n",
       "      <td>01/08/2016</td>\n",
       "      <td>31/07/2018</td>\n",
       "      <td>2. MAE</td>\n",
       "      <td>UIA</td>\n",
       "      <td>DISTRITO FEDERAL</td>\n",
       "      <td>MAESTRIA EN ESTUDIOS DE ARTE</td>\n",
       "      <td>IV. HUMANIDADES Y CS. DE LA CONDUCTA</td>\n",
       "      <td>123,457.95</td>\n",
       "    </tr>\n",
       "    <tr>\n",
       "      <th>3</th>\n",
       "      <td>4</td>\n",
       "      <td>AARLAND RAYN CLARENC</td>\n",
       "      <td>14/01/2013</td>\n",
       "      <td>13/01/2017</td>\n",
       "      <td>1. DOC</td>\n",
       "      <td>UAM</td>\n",
       "      <td>DISTRITO FEDERAL</td>\n",
       "      <td>DOCTORADO EN BIOLOGIA EXPERIMENTAL</td>\n",
       "      <td>II. BIOLOGIA Y QUIMICA</td>\n",
       "      <td>5,966.74</td>\n",
       "    </tr>\n",
       "    <tr>\n",
       "      <th>4</th>\n",
       "      <td>5</td>\n",
       "      <td>ABAD AGUILAR IRVING</td>\n",
       "      <td>01/02/2017</td>\n",
       "      <td>31/01/2018</td>\n",
       "      <td>3. ESP</td>\n",
       "      <td>U VERACRUZANA</td>\n",
       "      <td>VERACRUZ</td>\n",
       "      <td>ESPECIALIZACION EN GESTION E IMPACTO AMBIENTAL</td>\n",
       "      <td>VI. BIOTECNOLOGIA Y CS. AGROPECUARIAS</td>\n",
       "      <td>100,975.60</td>\n",
       "    </tr>\n",
       "  </tbody>\n",
       "</table>\n",
       "</div>"
      ],
      "text/plain": [
       "  ﻿id                            nombre      inicio         fin   grado  \\\n",
       "0   1                 ARELLANO PATRICIA  01/01/2016  31/12/2017  2. MAE   \n",
       "1   2    A LA TORRE ISLAS MARCO ALBERTO  01/02/2015  31/01/2019  1. DOC   \n",
       "2   3  AANDERUD OCHOA MICHELLE PATRICIA  01/08/2016  31/07/2018  2. MAE   \n",
       "3   4              AARLAND RAYN CLARENC  14/01/2013  13/01/2017  1. DOC   \n",
       "4   5               ABAD AGUILAR IRVING  01/02/2017  31/01/2018  3. ESP   \n",
       "\n",
       "        institucion           entidad  \\\n",
       "0  UA CIUDAD JUAREZ         CHIHUAHUA   \n",
       "1              CIAD            SONORA   \n",
       "2               UIA  DISTRITO FEDERAL   \n",
       "3               UAM  DISTRITO FEDERAL   \n",
       "4     U VERACRUZANA          VERACRUZ   \n",
       "\n",
       "                                         programa  \\\n",
       "0                 MAESTRIA EN ESTUDIOS LITERARIOS   \n",
       "1               DOCTORADO EN DESARRROLLO REGIONAL   \n",
       "2                    MAESTRIA EN ESTUDIOS DE ARTE   \n",
       "3              DOCTORADO EN BIOLOGIA EXPERIMENTAL   \n",
       "4  ESPECIALIZACION EN GESTION E IMPACTO AMBIENTAL   \n",
       "\n",
       "                                    area         monto  \n",
       "0   IV. HUMANIDADES Y CS. DE LA CONDUCTA     9,860.40   \n",
       "1                   V. CIENCIAS SOCIALES   164,610.60   \n",
       "2   IV. HUMANIDADES Y CS. DE LA CONDUCTA   123,457.95   \n",
       "3                 II. BIOLOGIA Y QUIMICA     5,966.74   \n",
       "4  VI. BIOTECNOLOGIA Y CS. AGROPECUARIAS   100,975.60   "
      ]
     },
     "execution_count": 48,
     "metadata": {},
     "output_type": "execute_result"
    }
   ],
   "source": [
    "df.info()\n",
    "df.head()"
   ]
  },
  {
   "cell_type": "code",
   "execution_count": 50,
   "metadata": {},
   "outputs": [
    {
     "name": "stdout",
     "output_type": "stream",
     "text": [
      "[11700, 21326, 21327, 72108, 72109, 72110, 72111]\n"
     ]
    }
   ],
   "source": [
    "# Clean the data\n",
    "# Find NaNs indexes\n",
    "nans = lambda df: df[df.isnull().any(axis=1)]\n",
    "nans_indexes = list(nans(df).index)\n",
    "print(nans_indexes)"
   ]
  },
  {
   "cell_type": "code",
   "execution_count": 54,
   "metadata": {
    "scrolled": true
   },
   "outputs": [
    {
     "name": "stdout",
     "output_type": "stream",
     "text": [
      "[1667, 17518, 21354]\n",
      "<class 'pandas.core.frame.DataFrame'>\n",
      "Int64Index: 72102 entries, 0 to 72107\n",
      "Data columns (total 10 columns):\n",
      "﻿id            72102 non-null object\n",
      "nombre         72102 non-null object\n",
      "inicio         72102 non-null object\n",
      "fin            72102 non-null object\n",
      "grado          72102 non-null object\n",
      "institucion    72102 non-null object\n",
      "entidad        72102 non-null object\n",
      "programa       72102 non-null object\n",
      "area           72102 non-null object\n",
      "monto          72102 non-null object\n",
      "dtypes: object(10)\n",
      "memory usage: 6.1+ MB\n"
     ]
    }
   ],
   "source": [
    "# Inicio has weird date sometimes\n",
    "invalid = df[df[\"inicio\"]==\"-\"]\n",
    "invalid_indexes = list(invalid.index)\n",
    "print(invalid_indexes)\n",
    "\n",
    "invalid=invalid_indexes+nans_indexes\n",
    "df=df.drop(invalid)\n",
    "df.info()"
   ]
  },
  {
   "cell_type": "code",
   "execution_count": 55,
   "metadata": {},
   "outputs": [],
   "source": [
    "df.to_csv(\"data-clean.csv\", encoding=\"utf-8\")"
   ]
  },
  {
   "cell_type": "code",
   "execution_count": 59,
   "metadata": {},
   "outputs": [
    {
     "data": {
      "text/plain": [
       "729"
      ]
     },
     "execution_count": 59,
     "metadata": {},
     "output_type": "execute_result"
    }
   ],
   "source": [
    "#Normalizing factor for visualization\n",
    "factor=729/72102"
   ]
  },
  {
   "cell_type": "code",
   "execution_count": 62,
   "metadata": {},
   "outputs": [
    {
     "name": "stdout",
     "output_type": "stream",
     "text": [
      "[['DISTRITO FEDERAL', 230], ['ESTADO DE MEXICO', 43], ['JALISCO', 43], ['NUEVO LEON', 37], ['PUEBLA', 35], ['VERACRUZ', 30], ['BAJA CALIFORNIA', 29], ['MORELOS', 25], ['GUANAJUATO', 24], ['QUERETARO', 23], ['MICHOACAN', 22], ['SAN LUIS POTOSI', 20], ['SONORA', 17], ['YUCATAN', 16], ['COAHUILA', 15], ['SINALOA', 14], ['CHIHUAHUA', 14], ['TAMAULIPAS', 9], ['CHIAPAS', 8], ['HIDALGO', 7], ['OAXACA', 7], ['GUERRERO', 7], ['BAJA CALIFORNIA SUR', 6], ['TABASCO', 6], ['ZACATECAS', 5], ['DURANGO', 5], ['AGUASCALIENTES', 5], ['TLAXCALA', 5], ['COLIMA', 3], ['NAYARIT', 3], ['QUINTANA ROO', 3], ['CAMPECHE', 1]]\n",
      "\n",
      "[['DISTRITO FEDERAL', 0], ['DISTRITO FEDERAL', 0], ['DISTRITO FEDERAL', 0], ['DISTRITO FEDERAL', 0]] \n",
      " 729\n"
     ]
    }
   ],
   "source": [
    "#Becarios by state\n",
    "x=df[[\"entidad\"]].groupby(\"entidad\").size().sort_values(ascending=False)\n",
    "estados=[[x.keys()[i],int(factor*j)] for i,j in enumerate(x)]\n",
    "print(estados)\n",
    "#Round-off errors\n",
    "for j in range(12):\n",
    "    estados[j][1]+=1\n",
    "#List of states to zip\n",
    "lista_estados= []\n",
    "for i in range(32):\n",
    "    lista_estados+=estados[i][1]*[[estados[i][0],i]]\n",
    "print()\n",
    "print([lista_estados[j] for j in range(4)],\"\\n\" ,len(lista_estados))"
   ]
  },
  {
   "cell_type": "code",
   "execution_count": 64,
   "metadata": {},
   "outputs": [
    {
     "name": "stdout",
     "output_type": "stream",
     "text": [
      "[['2. MAE', 456], ['1. DOC', 238], ['3. ESP', 32], ['4. EST TEC', 1]]\n",
      "\n",
      "[['Maestría', 0], ['Maestría', 0], ['Maestría', 0], ['Maestría', 0]] \n",
      " 729\n"
     ]
    }
   ],
   "source": [
    "#Becarios por grado\n",
    "x=df[[\"grado\"]].groupby(\"grado\").size().sort_values(ascending=False)\n",
    "grados=[[x.keys()[i],int(factor*j)] for i,j in enumerate(x)]\n",
    "print(grados)\n",
    "#Ajustar para que de 729\n",
    "grados[0][0]=\"Maestría\"\n",
    "grados[1][0]=\"Doctorado\"\n",
    "grados[2][0]=\"Especialidad\"\n",
    "grados[3][0]=\"Estancia Técnica\"\n",
    "grados[0][1]+=1\n",
    "grados[1][1]+=1\n",
    "#Crear la lista de la que haremos zip\n",
    "lista_grados = []\n",
    "for i in range(4):\n",
    "    lista_grados+=grados[i][1]*[[grados[i][0],i]]\n",
    "print()\n",
    "print([lista_grados[j] for j in range(4)],\"\\n\" ,len(lista_grados))"
   ]
  },
  {
   "cell_type": "code",
   "execution_count": 65,
   "metadata": {},
   "outputs": [
    {
     "name": "stdout",
     "output_type": "stream",
     "text": [
      "[['I. FISICO MATEMATICAS Y CS. DE LA TIERRA', 58], ['II. BIOLOGIA Y QUIMICA', 94], ['III. MEDICINA Y CS. DE LA SALUD', 68], ['IV. HUMANIDADES Y CS. DE LA CONDUCTA', 107], ['V. CIENCIAS SOCIALES', 149], ['VI. BIOTECNOLOGIA Y CS. AGROPECUARIAS', 85], ['VII. INGENIERIAS', 164]]\n",
      "\n",
      "[['I. FISICO MATEMATICAS Y CS. DE LA TIERRA', 0], ['I. FISICO MATEMATICAS Y CS. DE LA TIERRA', 0], ['I. FISICO MATEMATICAS Y CS. DE LA TIERRA', 0], ['I. FISICO MATEMATICAS Y CS. DE LA TIERRA', 0]]\n"
     ]
    }
   ],
   "source": [
    "#Becarios por area\n",
    "x=df[[\"area\"]].groupby(\"area\").size().sort_values(ascending=False)\n",
    "areas=[[x.keys()[i],int(factor*j)] for i,j in enumerate(x)]\n",
    "areas.sort(key=lambda j:j[0])\n",
    "#Ajustar para que de 729\n",
    "del(areas[0])\n",
    "del(areas[4:6])\n",
    "del(areas[-1])\n",
    "print(areas)\n",
    "for j in range(1,5):\n",
    "    areas[j][1]+=1\n",
    "sum([x[1] for x in areas])\n",
    "areas[1][1]+=1\n",
    "#Crear la lista de la que haremos zip\n",
    "lista_areas = []\n",
    "for i in range(7):\n",
    "    lista_areas+=areas[i][1]*[[areas[i][0],i]]\n",
    "print()\n",
    "print([lista_areas[j] for j in range(4)])"
   ]
  },
  {
   "cell_type": "code",
   "execution_count": 66,
   "metadata": {},
   "outputs": [
    {
     "name": "stdout",
     "output_type": "stream",
     "text": [
      "['2011 08', '2011 08', '2011 08', '2011 08', '2012 01', '2012 01', '2012 01', '2012 01', '2012 01', '2012 01']\n",
      "[['2011 08', 4], ['2012 01', 34], ['2012 02', 16], ['2012 04', 1], ['2012 05', 1], ['2012 08', 87], ['2012 09', 55], ['2013 01', 557], ['2013 02', 180], ['2013 03', 118], ['2013 04', 20], ['2013 05', 11], ['2013 06', 2], ['2013 08', 1490], ['2013 09', 562], ['2013 10', 41], ['2013 11', 5], ['2014 01', 771], ['2014 02', 611], ['2014 03', 156], ['2014 04', 16], ['2014 05', 16], ['2014 06', 10], ['2014 08', 2191], ['2014 09', 909], ['2014 10', 70], ['2014 11', 20], ['2015 01', 1079], ['2015 02', 1667], ['2015 03', 580], ['2015 04', 33], ['2015 05', 151], ['2015 06', 50], ['2015 08', 9140], ['2015 09', 4216], ['2015 10', 138], ['2015 11', 21], ['2015 12', 1], ['2016 01', 3527], ['2016 02', 2997], ['2016 03', 644], ['2016 04', 245], ['2016 05', 90], ['2016 06', 45], ['2016 08', 11899], ['2016 09', 4198], ['2016 10', 317], ['2016 11', 15], ['2016 12', 1], ['2017 01', 2302], ['2017 02', 4760], ['2017 03', 926], ['2017 04', 140], ['2017 05', 186], ['2017 06', 22], ['2017 07', 23], ['2017 08', 2804], ['2017 09', 11585], ['2017 10', 279], ['2017 11', 36], ['2017 12', 2], ['2018 01', 19], ['2018 02', 10]]\n"
     ]
    }
   ],
   "source": [
    "#Becarios por inicio\n",
    "x=[str(a)[-4:]+\" \"+str(a)[-7:-5] for a in df[\"inicio\"]]\n",
    "x.sort()\n",
    "print(x[:10])\n",
    "inicios={}\n",
    "for a in x:\n",
    "    inicios[a]=inicios.get(a,0)+1\n",
    "inicios = [[a,inicios[a]] for a in inicios]\n",
    "inicios.sort(key=lambda x:x[0])\n",
    "print(inicios)"
   ]
  },
  {
   "cell_type": "code",
   "execution_count": 68,
   "metadata": {},
   "outputs": [
    {
     "name": "stdout",
     "output_type": "stream",
     "text": [
      "[[2012, 2], [2013, 30], [2014, 49], [2015, 172], [2016, 242], [2017, 234]]\n",
      "\n",
      "[[2012, 0], [2012, 0], [2013, 1], [2013, 1]] 729\n"
     ]
    }
   ],
   "source": [
    "#Becarios por año inicio\n",
    "x=[str(a)[-4:] for a in df[\"inicio\"]]\n",
    "x.sort()\n",
    "inicios={}\n",
    "for a in x:\n",
    "    inicios[a]=inicios.get(a,0)+1\n",
    "inicios = [[int(a),int(factor*inicios[a])] for a in inicios]\n",
    "inicios.sort(key=lambda x:x[0])\n",
    "del(inicios[0],inicios[-1])\n",
    "#Ajuste 729\n",
    "inicios[0][1]+=1\n",
    "inicios[5][1]+=1\n",
    "inicios[2][1]+=1\n",
    "print(inicios)\n",
    "lista_inicios = []\n",
    "for i in range(6):\n",
    "    lista_inicios+=inicios[i][1]*[[inicios[i][0],i]]\n",
    "print()\n",
    "print([lista_inicios[j] for j in range(4)],len(lista_inicios))"
   ]
  },
  {
   "cell_type": "code",
   "execution_count": 69,
   "metadata": {},
   "outputs": [
    {
     "name": "stdout",
     "output_type": "stream",
     "text": [
      "[[2016, 2], [2017, 217], [2018, 227], [2019, 192], [2020, 53], [2021, 38]]\n",
      "729\n",
      "\n",
      "[[2016, 0], [2016, 0], [2017, 1], [2017, 1]]\n"
     ]
    }
   ],
   "source": [
    "#Becarios por año fin\n",
    "x=[str(a)[-4:] for a in df[\"fin\"]]\n",
    "x.sort()\n",
    "fines={}\n",
    "for a in x:\n",
    "    fines[a]=fines.get(a,0)+1\n",
    "fines = [[int(a),int(factor*fines[a])] for a in fines]\n",
    "fines.sort(key=lambda x:x[0])\n",
    "del(fines[0],fines[-1])\n",
    "#Ajuste 729\n",
    "fines[0][1]+=1\n",
    "fines[5][1]+=1\n",
    "fines[2][1]+=2\n",
    "print(fines)\n",
    "print(sum([x[1] for x in fines]))\n",
    "lista_fines = []\n",
    "for i in range(6):\n",
    "    lista_fines+=fines[i][1]*[[fines[i][0],i]]\n",
    "print()\n",
    "print([lista_fines[j] for j in range(4)])"
   ]
  },
  {
   "cell_type": "code",
   "execution_count": 70,
   "metadata": {},
   "outputs": [
    {
     "name": "stdout",
     "output_type": "stream",
     "text": [
      "(['DISTRITO FEDERAL', 0], ['Maestría', 0], ['I. FISICO MATEMATICAS Y CS. DE LA TIERRA', 0], [2012, 0], [2016, 0])\n",
      "(['DISTRITO FEDERAL', 0], ['Maestría', 0], ['I. FISICO MATEMATICAS Y CS. DE LA TIERRA', 0], [2014, 2], [2017, 1])\n",
      "(['DISTRITO FEDERAL', 0], ['Maestría', 0], ['II. BIOLOGIA Y QUIMICA', 1], [2014, 2], [2017, 1])\n",
      "(['DISTRITO FEDERAL', 0], ['Maestría', 0], ['II. BIOLOGIA Y QUIMICA', 1], [2015, 3], [2017, 1])\n",
      "(['DISTRITO FEDERAL', 0], ['Maestría', 0], ['III. MEDICINA Y CS. DE LA SALUD', 2], [2015, 3], [2017, 1])\n",
      "(['DISTRITO FEDERAL', 0], ['Maestría', 0], ['III. MEDICINA Y CS. DE LA SALUD', 2], [2015, 3], [2017, 1])\n",
      "(['ESTADO DE MEXICO', 1], ['Maestría', 0], ['IV. HUMANIDADES Y CS. DE LA CONDUCTA', 3], [2015, 3], [2018, 2])\n",
      "(['JALISCO', 2], ['Maestría', 0], ['IV. HUMANIDADES Y CS. DE LA CONDUCTA', 3], [2016, 4], [2018, 2])\n",
      "(['NUEVO LEON', 3], ['Maestría', 0], ['IV. HUMANIDADES Y CS. DE LA CONDUCTA', 3], [2016, 4], [2018, 2])\n",
      "(['PUEBLA', 4], ['Maestría', 0], ['V. CIENCIAS SOCIALES', 4], [2016, 4], [2018, 2])\n",
      "(['VERACRUZ', 5], ['Maestría', 0], ['V. CIENCIAS SOCIALES', 4], [2016, 4], [2018, 2])\n",
      "(['BAJA CALIFORNIA', 6], ['Maestría', 0], ['V. CIENCIAS SOCIALES', 4], [2016, 4], [2018, 2])\n",
      "(['GUANAJUATO', 8], ['Doctorado', 1], ['V. CIENCIAS SOCIALES', 4], [2016, 4], [2019, 3])\n",
      "(['QUERETARO', 9], ['Doctorado', 1], ['VI. BIOTECNOLOGIA Y CS. AGROPECUARIAS', 5], [2017, 5], [2019, 3])\n",
      "(['SAN LUIS POTOSI', 11], ['Doctorado', 1], ['VI. BIOTECNOLOGIA Y CS. AGROPECUARIAS', 5], [2017, 5], [2019, 3])\n",
      "(['YUCATAN', 13], ['Doctorado', 1], ['VII. INGENIERIAS', 6], [2017, 5], [2019, 3])\n",
      "(['CHIHUAHUA', 16], ['Doctorado', 1], ['VII. INGENIERIAS', 6], [2017, 5], [2020, 4])\n",
      "(['GUERRERO', 21], ['Doctorado', 1], ['VII. INGENIERIAS', 6], [2017, 5], [2020, 4])\n"
     ]
    }
   ],
   "source": [
    "z=list(zip(lista_estados,lista_grados,lista_areas,lista_inicios,lista_fines))\n",
    "for k in range(0,720,40):\n",
    "    print(z[k])"
   ]
  },
  {
   "cell_type": "code",
   "execution_count": 71,
   "metadata": {},
   "outputs": [],
   "source": [
    "json=\"[\\n\"\n",
    "for j, item in enumerate(z):\n",
    "    x=int(j/27)\n",
    "    y=j%27\n",
    "    new=\"\"\"{{\"x\":{},\"y\":{},\"estado\":\"{}\",\"estado_id\":{},\"grado\":\"{}\",\"grado_id\":{}, \n",
    "        \"area\":\"{}\",\"area_id\":{}, \"s_year\":{}, \"s_year_id\":{}, \"e_year\":{}, \"e_year_id\":{}}},\n",
    "        \"\"\"\n",
    "    json+=new.format(x,y,item[0][0],item[0][1], item[1][0],item[1][1],item[2][0],item[2][1],item[3][0],item[3][1],item[4][0],item[4][1])\n",
    "json=json[:-10]+\"\\n]\"\n",
    "f=open('src\\pairs.json','w',encoding=\"utf-8\")\n",
    "f.write(json)\n",
    "f.close()"
   ]
  },
  {
   "cell_type": "code",
   "execution_count": 3,
   "metadata": {},
   "outputs": [
    {
     "name": "stdout",
     "output_type": "stream",
     "text": [
      "<class 'pandas.core.frame.DataFrame'>\n",
      "RangeIndex: 72102 entries, 0 to 72101\n",
      "Data columns (total 11 columns):\n",
      "Unnamed: 0     72102 non-null int64\n",
      "﻿id            72102 non-null object\n",
      "nombre         72102 non-null object\n",
      "inicio         72102 non-null object\n",
      "fin            72102 non-null object\n",
      "grado          72102 non-null object\n",
      "institucion    72102 non-null object\n",
      "entidad        72102 non-null object\n",
      "programa       72102 non-null object\n",
      "area           72102 non-null object\n",
      "monto          72102 non-null object\n",
      "dtypes: int64(1), object(10)\n",
      "memory usage: 6.1+ MB\n"
     ]
    }
   ],
   "source": [
    "df.info()"
   ]
  },
  {
   "cell_type": "code",
   "execution_count": null,
   "metadata": {
    "collapsed": true
   },
   "outputs": [],
   "source": []
  },
  {
   "cell_type": "code",
   "execution_count": 100,
   "metadata": {},
   "outputs": [
    {
     "data": {
      "text/plain": [
       "entidad              grado     \n",
       "AGUASCALIENTES       1. DOC          199\n",
       "                     2. MAE          318\n",
       "                     3. ESP            3\n",
       "BAJA CALIFORNIA      1. DOC          788\n",
       "                     2. MAE         1948\n",
       "                     3. ESP          168\n",
       "BAJA CALIFORNIA SUR  1. DOC          249\n",
       "                     2. MAE          379\n",
       "CAMPECHE             1. DOC           16\n",
       "                     2. MAE          144\n",
       "CHIAPAS              1. DOC          243\n",
       "                     2. MAE          549\n",
       "                     3. ESP           27\n",
       "CHIHUAHUA            1. DOC          297\n",
       "                     2. MAE         1061\n",
       "                     3. ESP           49\n",
       "COAHUILA             1. DOC          433\n",
       "                     2. MAE         1029\n",
       "                     3. ESP           42\n",
       "COLIMA               1. DOC          133\n",
       "                     2. MAE          179\n",
       "                     3. ESP           24\n",
       "DISTRITO FEDERAL     1. DOC         8943\n",
       "                     2. MAE        13019\n",
       "                     3. ESP          716\n",
       "                     4. EST TEC       99\n",
       "DURANGO              1. DOC          172\n",
       "                     2. MAE          362\n",
       "ESTADO DE MEXICO     1. DOC         1439\n",
       "                     2. MAE         2509\n",
       "                                   ...  \n",
       "QUERETARO            3. ESP          145\n",
       "QUINTANA ROO         1. DOC           72\n",
       "                     2. MAE          226\n",
       "SAN LUIS POTOSI      1. DOC          663\n",
       "                     2. MAE         1181\n",
       "                     3. ESP          169\n",
       "SINALOA              1. DOC          472\n",
       "                     2. MAE          857\n",
       "                     3. ESP          141\n",
       "SONORA               1. DOC          647\n",
       "                     2. MAE         1082\n",
       "                     3. ESP           14\n",
       "TABASCO              1. DOC          151\n",
       "                     2. MAE          414\n",
       "                     3. ESP           39\n",
       "TAMAULIPAS           1. DOC          195\n",
       "                     2. MAE          722\n",
       "                     3. ESP           58\n",
       "TLAXCALA             1. DOC          121\n",
       "                     2. MAE          379\n",
       "                     3. ESP           10\n",
       "VERACRUZ             1. DOC          667\n",
       "                     2. MAE         2110\n",
       "                     3. ESP          255\n",
       "YUCATAN              1. DOC          465\n",
       "                     2. MAE         1041\n",
       "                     3. ESP          105\n",
       "ZACATECAS            1. DOC          150\n",
       "                     2. MAE          382\n",
       "                     3. ESP           19\n",
       "dtype: int64"
      ]
     },
     "execution_count": 100,
     "metadata": {},
     "output_type": "execute_result"
    }
   ],
   "source": [
    "df.sort_values(by=\"entidad\").groupby([\"entidad\",\"grado\"]).size()"
   ]
  },
  {
   "cell_type": "code",
   "execution_count": 135,
   "metadata": {},
   "outputs": [
    {
     "name": "stdout",
     "output_type": "stream",
     "text": [
      "['AGUASCALIENTES', 'BAJA CALIFORNIA', 'BAJA CALIFORNIA SUR', 'CAMPECHE', 'CHIAPAS', 'CHIHUAHUA', 'COAHUILA', 'COLIMA', 'DISTRITO FEDERAL', 'DURANGO', 'ESTADO DE MEXICO', 'GUANAJUATO', 'GUERRERO', 'HIDALGO', 'JALISCO', 'MICHOACAN', 'MORELOS', 'NAYARIT', 'NUEVO LEON', 'OAXACA', 'PUEBLA', 'QUERETARO', 'QUINTANA ROO', 'SAN LUIS POTOSI', 'SINALOA', 'SONORA', 'TABASCO', 'TAMAULIPAS', 'TLAXCALA', 'VERACRUZ', 'YUCATAN', 'ZACATECAS']\n"
     ]
    }
   ],
   "source": [
    "x=df.sort_values(by=\"entidad\").groupby([\"entidad\"]).size()\n",
    "print(list(x.keys()))\n",
    "# total_dict={}\n",
    "# for k in x.keys():\n",
    "#     total_dict[k.title()]=x[k]\n",
    "# print(total_dict)"
   ]
  },
  {
   "cell_type": "code",
   "execution_count": 118,
   "metadata": {},
   "outputs": [],
   "source": [
    "x=df.sort_values(by=\"entidad\").groupby([\"entidad\",\"grado\"]).size()\n",
    "y=df.sort_values(by=\"entidad\").groupby([\"entidad\",\"area\"]).size()\n",
    "big_dict={}\n",
    "# for x in x.keys():\n",
    "#     print(x)\n",
    "# for k in x.keys():\n",
    "#     print(k[0].title())\n",
    "for k in x.keys():\n",
    "#     print(\"OK\")\n",
    "    country_dict=big_dict.get(k[0].title(),{})\n",
    "    country_dict[k[1]]=x[k]/total_dict[k[0].title()]\n",
    "    big_dict[k[0].title()]=country_dict\n",
    "for k in y.keys():\n",
    "#     print(\"OK\")\n",
    "    country_dict=big_dict.get(k[0].title(),{})\n",
    "    country_dict[k[1]]=y[k]/total_dict[k[0].title()]\n",
    "    big_dict[k[0].title()]=country_dict\n",
    "# y=x.to_dict()\n",
    "# for j in y.keys():\n",
    "#     print(j)"
   ]
  },
  {
   "cell_type": "code",
   "execution_count": 138,
   "metadata": {},
   "outputs": [],
   "source": [
    "x=list(df.sort_values(by=\"area\").groupby([\"area\"]).size().keys())\n",
    "y=list(df.sort_values(by=\"grado\").groupby([\"grado\"]).size().keys())\n",
    "for j in big_dict:\n",
    "    big_dict[j][\"name\"]=j\n",
    "    big_dict[j][\"total\"]=int(total_dict[j])\n",
    "    for k in x:\n",
    "        big_dict[j][k]=big_dict[j].get(k,0)\n",
    "    for k in y:\n",
    "        big_dict[j][k]=big_dict[j].get(k,0)"
   ]
  },
  {
   "cell_type": "code",
   "execution_count": 139,
   "metadata": {},
   "outputs": [],
   "source": [
    "import json\n",
    "with open(\"estados.json\",\"w\") as f:\n",
    "    f.write(json.dumps(list(big_dict.values()),indent=4))"
   ]
  },
  {
   "cell_type": "code",
   "execution_count": null,
   "metadata": {
    "collapsed": true
   },
   "outputs": [],
   "source": []
  }
 ],
 "metadata": {
  "anaconda-cloud": {},
  "kernelspec": {
   "display_name": "Python 3",
   "language": "python",
   "name": "python3"
  },
  "language_info": {
   "codemirror_mode": {
    "name": "ipython",
    "version": 3
   },
   "file_extension": ".py",
   "mimetype": "text/x-python",
   "name": "python",
   "nbconvert_exporter": "python",
   "pygments_lexer": "ipython3",
   "version": "3.7.0"
  }
 },
 "nbformat": 4,
 "nbformat_minor": 1
}
